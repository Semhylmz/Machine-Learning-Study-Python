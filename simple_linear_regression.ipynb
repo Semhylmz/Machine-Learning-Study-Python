{
 "cells": [
  {
   "cell_type": "markdown",
   "source": [
    "# BASİT DOGRUSAL REGRESYON\n",
    "Bir bağımsız bir bağımlı değisken olacak"
   ],
   "metadata": {
    "collapsed": false
   }
  },
  {
   "cell_type": "code",
   "execution_count": null,
   "outputs": [],
   "source": [
    "import pandas as pd\n",
    "\n",
    "df = pd.read_csv(\"data/Advertising.csv\")\n",
    "df = df.iloc[:, 1:len(df)]\n",
    "df.head()"
   ],
   "metadata": {
    "collapsed": false
   }
  },
  {
   "cell_type": "code",
   "execution_count": null,
   "outputs": [],
   "source": [
    "df.info()"
   ],
   "metadata": {
    "collapsed": false
   }
  },
  {
   "cell_type": "code",
   "execution_count": null,
   "outputs": [],
   "source": [
    "import seaborn as sns\n",
    "\n",
    "sns.jointplot(x=\"TV\", y=\"sales\", data=df, kind=\"reg\");"
   ],
   "metadata": {
    "collapsed": false
   }
  },
  {
   "cell_type": "code",
   "execution_count": null,
   "outputs": [],
   "source": [
    "from sklearn.linear_model import LinearRegression"
   ],
   "metadata": {
    "collapsed": false
   }
  },
  {
   "cell_type": "code",
   "execution_count": null,
   "outputs": [],
   "source": [
    "x = df[[\"TV\"]]  #bagimsiz degisken"
   ],
   "metadata": {
    "collapsed": false
   }
  },
  {
   "cell_type": "code",
   "execution_count": null,
   "outputs": [],
   "source": [
    "y = df[[\"sales\"]]  #bagimli degisken"
   ],
   "metadata": {
    "collapsed": false
   }
  },
  {
   "cell_type": "code",
   "execution_count": null,
   "outputs": [],
   "source": [
    "reg = LinearRegression()"
   ],
   "metadata": {
    "collapsed": false
   }
  },
  {
   "cell_type": "code",
   "execution_count": null,
   "outputs": [],
   "source": [
    "model = reg.fit(x, y)"
   ],
   "metadata": {
    "collapsed": false
   }
  },
  {
   "cell_type": "code",
   "execution_count": null,
   "outputs": [],
   "source": [
    "model  # Model: fonksiyonu bulmak"
   ],
   "metadata": {
    "collapsed": false
   }
  },
  {
   "cell_type": "code",
   "execution_count": null,
   "outputs": [],
   "source": [
    "str(model)"
   ],
   "metadata": {
    "collapsed": false
   }
  },
  {
   "cell_type": "code",
   "execution_count": null,
   "outputs": [],
   "source": [
    "dir(model)"
   ],
   "metadata": {
    "collapsed": false
   }
  },
  {
   "cell_type": "code",
   "execution_count": null,
   "outputs": [],
   "source": [
    "model.intercept_  #beta0"
   ],
   "metadata": {
    "collapsed": false
   }
  },
  {
   "cell_type": "code",
   "execution_count": null,
   "outputs": [],
   "source": [
    "model.coef_  #beta1"
   ],
   "metadata": {
    "collapsed": false
   }
  },
  {
   "cell_type": "code",
   "execution_count": null,
   "outputs": [],
   "source": [
    "# rkare\n",
    "model.score(x, y)  # bagimsiz degiskeni kullanınca bagimli degiskenin yüzde kacini aciklayabiliyoruz bilgisini sunar"
   ],
   "metadata": {
    "collapsed": false
   }
  },
  {
   "cell_type": "markdown",
   "source": [
    "# TAHMİN"
   ],
   "metadata": {
    "collapsed": false
   }
  },
  {
   "cell_type": "code",
   "execution_count": null,
   "outputs": [],
   "source": [
    "import matplotlib.pyplot as plt\n",
    "\n",
    "g = sns.regplot(x=df[\"TV\"], y=df[\"sales\"], ci=None, scatter_kws={'color': 'r', 's': 9})\n",
    "g.set_title(\"Model denklemi: Sales = 7.03 + TV*0.05\")\n",
    "g.set_ylabel(\"Satış sayısı\")\n",
    "g.set_xlabel(\"Tv harcamaları\")\n",
    "plt.xlim(-10, 310)\n",
    "plt.ylim(bottom=0);"
   ],
   "metadata": {
    "collapsed": false
   }
  },
  {
   "cell_type": "markdown",
   "source": [
    "Tv reklamlarına x harcama yaparsam satış/kazanc ne olur? Bu cevabı arıyoruz"
   ],
   "metadata": {
    "collapsed": false
   }
  },
  {
   "cell_type": "code",
   "execution_count": null,
   "outputs": [],
   "source": [
    "model.predict([[400]])  # Tahmin: fonksiyonu kullanarak tahminlerde bulunmak"
   ],
   "metadata": {
    "collapsed": false
   }
  },
  {
   "cell_type": "code",
   "execution_count": null,
   "outputs": [],
   "source": [
    "yeni_veri = [[5], [15], [30]]"
   ],
   "metadata": {
    "collapsed": false
   }
  },
  {
   "cell_type": "code",
   "execution_count": null,
   "outputs": [],
   "source": [
    "model.predict(yeni_veri)"
   ],
   "metadata": {
    "collapsed": false
   }
  },
  {
   "cell_type": "markdown",
   "source": [
    "# ARTIKLAR\n",
    "MSE: Hata Kareler Ortalaması\n",
    "RMSE: Hata Kareler Ortalamasının Karekökü"
   ],
   "metadata": {
    "collapsed": false
   }
  },
  {
   "cell_type": "code",
   "execution_count": null,
   "outputs": [],
   "source": [
    "y.head()"
   ],
   "metadata": {
    "collapsed": false
   }
  },
  {
   "cell_type": "code",
   "execution_count": null,
   "outputs": [],
   "source": [
    "model.predict(x)[0:6]"
   ],
   "metadata": {
    "collapsed": false
   }
  },
  {
   "cell_type": "code",
   "execution_count": null,
   "outputs": [],
   "source": [
    "gercek_y = y[0:10]"
   ],
   "metadata": {
    "collapsed": false
   }
  },
  {
   "cell_type": "code",
   "execution_count": null,
   "outputs": [],
   "source": [
    "tahmin_edilen_y = pd.DataFrame(model.predict(x)[0:10])"
   ],
   "metadata": {
    "collapsed": false
   }
  },
  {
   "cell_type": "code",
   "execution_count": null,
   "outputs": [],
   "source": [
    "hatalar = pd.concat([gercek_y, tahmin_edilen_y], axis=1)"
   ],
   "metadata": {
    "collapsed": false
   }
  },
  {
   "cell_type": "code",
   "execution_count": null,
   "outputs": [],
   "source": [
    "hatalar.columns = [\"gercek\", \"tahmin edilen\"]\n",
    "hatalar"
   ],
   "metadata": {
    "collapsed": false
   }
  },
  {
   "cell_type": "code",
   "execution_count": null,
   "outputs": [],
   "source": [
    "hatalar[\"hata\"] = hatalar[\"gercek\"] - hatalar[\"tahmin edilen\"]\n",
    "hatalar"
   ],
   "metadata": {
    "collapsed": false
   }
  },
  {
   "cell_type": "code",
   "execution_count": null,
   "outputs": [],
   "source": [
    "hatalar[\"hata kareler\"] = hatalar[\"hata\"] ** 2\n",
    "hatalar"
   ],
   "metadata": {
    "collapsed": false
   }
  },
  {
   "cell_type": "code",
   "execution_count": null,
   "outputs": [],
   "source": [
    "\n",
    "import numpy as np\n",
    "\n",
    "np.mean(hatalar[\"hata kareler\"])"
   ],
   "metadata": {
    "collapsed": false
   }
  },
  {
   "cell_type": "markdown",
   "source": [
    "# ÇOKLU DOGRUSAL REGRESYON\n",
    "farkların karelerinin toplamını minimum yapmaya çalışacak şekilde katsayıları bulmaya çalışırız"
   ],
   "metadata": {
    "collapsed": false
   }
  },
  {
   "cell_type": "code",
   "execution_count": null,
   "outputs": [],
   "source": [
    "x = df.drop('sales', axis=1)  # bagimsiz\n",
    "y = df[[\"sales\"]]  # bagimli, iki köşeli parantez dataframe şeklinde çıktı olsun diye"
   ],
   "metadata": {
    "collapsed": false
   }
  },
  {
   "cell_type": "code",
   "execution_count": null,
   "outputs": [],
   "source": [
    "y.head()"
   ],
   "metadata": {
    "collapsed": false
   }
  },
  {
   "cell_type": "code",
   "execution_count": null,
   "outputs": [],
   "source": [
    "x.head()"
   ],
   "metadata": {
    "collapsed": false
   }
  },
  {
   "cell_type": "markdown",
   "source": [
    "# STATSMODELS İLE MODEL KURMAK"
   ],
   "metadata": {
    "collapsed": false
   }
  },
  {
   "cell_type": "code",
   "execution_count": null,
   "outputs": [],
   "source": [
    "import statsmodels.api as sm"
   ],
   "metadata": {
    "collapsed": false
   }
  },
  {
   "cell_type": "code",
   "execution_count": null,
   "outputs": [],
   "source": [
    "lm = sm.OLS(y, x)"
   ],
   "metadata": {
    "collapsed": false
   }
  },
  {
   "cell_type": "code",
   "execution_count": null,
   "outputs": [],
   "source": [
    "model = lm.fit()\n",
    "model.summary()"
   ],
   "metadata": {
    "collapsed": false
   }
  },
  {
   "cell_type": "markdown",
   "source": [
    "# SCIKIT LEARN İLE MODEL KURMAK"
   ],
   "metadata": {
    "collapsed": false
   }
  },
  {
   "cell_type": "code",
   "execution_count": null,
   "outputs": [],
   "source": [
    "lm = LinearRegression()\n",
    "model = lm.fit(x, y)\n",
    "model.intercept_"
   ],
   "metadata": {
    "collapsed": false
   }
  },
  {
   "cell_type": "code",
   "execution_count": null,
   "outputs": [],
   "source": [
    "model.coef_"
   ],
   "metadata": {
    "collapsed": false
   }
  },
  {
   "cell_type": "markdown",
   "source": [
    "# TAHMIN\n",
    "sales = 2.94 + TV * 0.04 + radio * 0.19 - newspaper * 0.001"
   ],
   "metadata": {
    "collapsed": false
   }
  },
  {
   "cell_type": "code",
   "execution_count": null,
   "outputs": [],
   "source": [
    "yeni_veri = [[30], [10], [40]]\n",
    "yeni_veri = pd.DataFrame(yeni_veri).T\n",
    "yeni_veri"
   ],
   "metadata": {
    "collapsed": false
   }
  },
  {
   "cell_type": "code",
   "execution_count": null,
   "outputs": [],
   "source": [
    "model.predict(yeni_veri)"
   ],
   "metadata": {
    "collapsed": false
   }
  },
  {
   "cell_type": "code",
   "execution_count": null,
   "outputs": [],
   "source": [
    "y.head()"
   ],
   "metadata": {
    "collapsed": false
   }
  },
  {
   "cell_type": "code",
   "execution_count": null,
   "outputs": [],
   "source": [
    "model.predict(x)[0:10]"
   ],
   "metadata": {
    "collapsed": false
   }
  },
  {
   "cell_type": "code",
   "execution_count": null,
   "outputs": [],
   "source": [
    "from sklearn.metrics import mean_squared_error\n",
    "\n",
    "MSE = mean_squared_error(y, model.predict(x))\n",
    "MSE"
   ],
   "metadata": {
    "collapsed": false
   }
  },
  {
   "cell_type": "code",
   "execution_count": null,
   "outputs": [],
   "source": [
    "RMSE = np.sqrt(MSE)\n",
    "RMSE"
   ],
   "metadata": {
    "collapsed": false
   }
  },
  {
   "cell_type": "markdown",
   "source": [
    "# MODEL TUNING(MODEL DOGRULAMA)"
   ],
   "metadata": {
    "collapsed": false
   }
  },
  {
   "cell_type": "code",
   "execution_count": null,
   "outputs": [],
   "source": [
    "x.head()"
   ],
   "metadata": {
    "collapsed": false
   }
  },
  {
   "cell_type": "code",
   "execution_count": null,
   "outputs": [],
   "source": [
    "y.head()"
   ],
   "metadata": {
    "collapsed": false
   }
  },
  {
   "cell_type": "code",
   "execution_count": null,
   "outputs": [],
   "source": [
    "# sinama seti\n",
    "from sklearn.model_selection import train_test_split"
   ],
   "metadata": {
    "collapsed": false
   }
  },
  {
   "cell_type": "code",
   "execution_count": null,
   "outputs": [],
   "source": [
    "x_train, x_test, y_train, y_test = train_test_split(x, y, test_size=0.20, random_state=99)"
   ],
   "metadata": {
    "collapsed": false
   }
  },
  {
   "cell_type": "code",
   "execution_count": null,
   "outputs": [],
   "source": [
    "x_train.head()"
   ],
   "metadata": {
    "collapsed": false
   }
  },
  {
   "cell_type": "code",
   "execution_count": null,
   "outputs": [],
   "source": [
    "y_train.head()"
   ],
   "metadata": {
    "collapsed": false
   }
  },
  {
   "cell_type": "code",
   "execution_count": null,
   "outputs": [],
   "source": [
    "x_test.head()"
   ],
   "metadata": {
    "collapsed": false
   }
  },
  {
   "cell_type": "code",
   "execution_count": null,
   "outputs": [],
   "source": [
    "y_test.head()"
   ],
   "metadata": {
    "collapsed": false
   }
  },
  {
   "cell_type": "code",
   "execution_count": null,
   "outputs": [],
   "source": [
    "lm = LinearRegression()\n",
    "model = lm.fit(x_train, y_train)"
   ],
   "metadata": {
    "collapsed": false
   }
  },
  {
   "cell_type": "code",
   "execution_count": null,
   "outputs": [],
   "source": [
    "# egitim hatasi\n",
    "np.sqrt(mean_squared_error(y_train, model.predict(x_train)))"
   ],
   "metadata": {
    "collapsed": false
   }
  },
  {
   "cell_type": "code",
   "execution_count": null,
   "outputs": [],
   "source": [
    "# test hatasi\n",
    "np.sqrt(mean_squared_error(y_test, model.predict(x_test)))"
   ],
   "metadata": {
    "collapsed": false
   }
  },
  {
   "cell_type": "markdown",
   "source": [
    "# K-KATLI CROSS VALİDATİON\n",
    "egitim setindeki oluşabilecek hataları daha doğru değerlendirmek için\n",
    "yani doğrulanmıs hatadır"
   ],
   "metadata": {
    "collapsed": false
   }
  },
  {
   "cell_type": "code",
   "execution_count": null,
   "outputs": [],
   "source": [
    "from sklearn.model_selection import cross_val_score"
   ],
   "metadata": {
    "collapsed": false
   }
  },
  {
   "cell_type": "code",
   "execution_count": null,
   "outputs": [],
   "source": [
    "# mse\n",
    "np.mean(\n",
    "    -cross_val_score(model, x_train, y_train, cv=10, scoring=\"neg_mean_squared_error\"))  #train setinde ortalama hata"
   ],
   "metadata": {
    "collapsed": false
   }
  },
  {
   "cell_type": "code",
   "execution_count": null,
   "outputs": [],
   "source": [
    "# rmse\n",
    "np.sqrt(np.mean(\n",
    "    -cross_val_score(model, x_train, y_train, cv=10, scoring=\"neg_mean_squared_error\")))  #train setinde ortalama hata)"
   ],
   "metadata": {
    "collapsed": false
   }
  },
  {
   "cell_type": "code",
   "execution_count": null,
   "outputs": [],
   "source": [
    "np.sqrt(np.mean(-cross_val_score(model, x, y, cv=10, scoring=\"neg_mean_squared_error\")))"
   ],
   "metadata": {
    "collapsed": false
   }
  },
  {
   "cell_type": "markdown",
   "source": [
    "# RIDGE REGRESYON - L2\n",
    "Amaç: hata kareler toplamını minimize eden katsayılar, bu katsayılara bir ceza uygulayarak bulmaktır\n",
    "yanlıdır fakat varyansı küçüktür, çok boyutluluğa(değişken sayısı>gözlem sayısı) çözüm sunar, çoklu doğrulas bağlantı problemi olduğunda etkilidir, ilgisiz değiskenleri modelden çıkarmaz katsayılarını sıfıra yaklaştırır, lamda kritik roldedir, lamda için CV kullanılır\n",
    "Hata kareler toplamını minimum yapan lambda'yı arıyoruz"
   ],
   "metadata": {
    "collapsed": false
   }
  },
  {
   "cell_type": "code",
   "execution_count": null,
   "outputs": [],
   "source": [
    "import numpy as np\n",
    "import pandas as pd\n",
    "from sklearn.linear_model import Ridge\n",
    "from sklearn.metrics import mean_squared_error, r2_score\n",
    "from sklearn.model_selection import train_test_split\n",
    "from sklearn import model_selection\n",
    "import matplotlib.pyplot as plt\n",
    "from sklearn.linear_model import RidgeCV"
   ],
   "metadata": {
    "collapsed": false
   }
  },
  {
   "cell_type": "code",
   "execution_count": null,
   "outputs": [],
   "source": [
    "df = pd.read_csv(\"data/Hitters.csv\")\n",
    "df = df.dropna()  # eksik değerler silindi\n",
    "dms = pd.get_dummies(df[['League', 'Division', 'NewLeague']])\n",
    "y = df[\"Salary\"]  # bagimli degisken\n",
    "x_ = df.drop(['Salary', 'League', 'Division', 'NewLeague'], axis=1).astype('float64')\n",
    "x = pd.concat([x_, dms[['League_N', 'Division_W', 'NewLeague_N']]], axis=1)\n",
    "x_train, x_test, y_train, y_test = train_test_split(x, y, test_size=0.25, random_state=42)"
   ],
   "metadata": {
    "collapsed": false
   }
  },
  {
   "cell_type": "code",
   "execution_count": null,
   "outputs": [],
   "source": [
    "df.head()"
   ],
   "metadata": {
    "collapsed": false
   }
  },
  {
   "cell_type": "code",
   "execution_count": null,
   "outputs": [],
   "source": [
    "df.shape"
   ],
   "metadata": {
    "collapsed": false
   }
  },
  {
   "cell_type": "code",
   "execution_count": null,
   "outputs": [],
   "source": [
    "ridge_model = Ridge(alpha=5).fit(x_train, y_train)\n",
    "# ridge_model"
   ],
   "metadata": {
    "collapsed": false
   }
  },
  {
   "cell_type": "code",
   "execution_count": null,
   "outputs": [],
   "source": [
    "ridge_model.coef_"
   ],
   "metadata": {
    "collapsed": false
   }
  },
  {
   "cell_type": "code",
   "execution_count": null,
   "outputs": [],
   "source": [
    "ridge_model.intercept_"
   ],
   "metadata": {
    "collapsed": false
   }
  },
  {
   "cell_type": "code",
   "execution_count": null,
   "outputs": [],
   "source": [
    "lambdalar = 10 ** np.linspace(10, -2, 100) * 0.5\n",
    "lambdalar"
   ],
   "metadata": {
    "collapsed": false
   }
  },
  {
   "cell_type": "code",
   "execution_count": null,
   "outputs": [],
   "source": [
    "katsayilar = []\n",
    "\n",
    "for i in lambdalar:\n",
    "    ridge_model.set_params(alpha=i)\n",
    "    ridge_model.fit(x_train, y_train)\n",
    "    katsayilar.append(ridge_model.coef_)"
   ],
   "metadata": {
    "collapsed": false
   }
  },
  {
   "cell_type": "code",
   "execution_count": null,
   "outputs": [],
   "source": [
    "katsayilar"
   ],
   "metadata": {
    "collapsed": false
   }
  },
  {
   "cell_type": "code",
   "execution_count": null,
   "outputs": [],
   "source": [
    "ax = plt.gca()\n",
    "ax.plot(lambdalar, katsayilar)\n",
    "ax.set_xscale(\"log\")"
   ],
   "metadata": {
    "collapsed": false
   }
  },
  {
   "cell_type": "markdown",
   "source": [
    "# TAHMIN"
   ],
   "metadata": {
    "collapsed": false
   }
  },
  {
   "cell_type": "code",
   "execution_count": null,
   "outputs": [],
   "source": [
    "ridge_model = Ridge().fit(x_train, y_train)\n",
    "y_pred = ridge_model.predict(x_train)\n",
    "y_pred[0:10]"
   ],
   "metadata": {
    "collapsed": false
   }
  },
  {
   "cell_type": "code",
   "execution_count": null,
   "outputs": [],
   "source": [
    "y_train[0:10]"
   ],
   "metadata": {
    "collapsed": false
   }
  },
  {
   "cell_type": "code",
   "execution_count": null,
   "outputs": [],
   "source": [
    "# train hatası\n",
    "RMSE = np.sqrt(mean_squared_error(y_train, y_pred))\n",
    "RMSE"
   ],
   "metadata": {
    "collapsed": false
   }
  },
  {
   "cell_type": "code",
   "execution_count": null,
   "outputs": [],
   "source": [
    "from sklearn.model_selection import cross_val_score"
   ],
   "metadata": {
    "collapsed": false
   }
  },
  {
   "cell_type": "code",
   "execution_count": null,
   "outputs": [],
   "source": [
    "np.sqrt(np.mean(-cross_val_score(ridge_model, x_train, y_train, cv=10, scoring=\"neg_mean_squared_error\")))"
   ],
   "metadata": {
    "collapsed": false
   }
  },
  {
   "cell_type": "code",
   "execution_count": null,
   "outputs": [],
   "source": [
    "# test hatası\n",
    "y_pred = ridge_model.predict(x_test)"
   ],
   "metadata": {
    "collapsed": false
   }
  },
  {
   "cell_type": "code",
   "execution_count": null,
   "outputs": [],
   "source": [
    "RMSE = np.sqrt(mean_squared_error(y_test, y_pred))\n",
    "RMSE"
   ],
   "metadata": {
    "collapsed": false
   }
  },
  {
   "cell_type": "markdown",
   "source": [
    "# MODEL TUNING"
   ],
   "metadata": {
    "collapsed": false
   }
  },
  {
   "cell_type": "code",
   "execution_count": null,
   "outputs": [],
   "source": [
    "ridge_model = Ridge(1).fit(x_train, y_train)\n",
    "y_pred = ridge_model.predict(x_test)\n",
    "np.sqrt(mean_squared_error(y_test, y_pred))"
   ],
   "metadata": {
    "collapsed": false
   }
  },
  {
   "cell_type": "code",
   "execution_count": null,
   "outputs": [],
   "source": [
    "lambdalar1 = np.random.randint(0, 1000, 100)"
   ],
   "metadata": {
    "collapsed": false
   }
  },
  {
   "cell_type": "code",
   "execution_count": null,
   "outputs": [],
   "source": [
    "lambdalar2 = 10 ** np.linspace(10, -2, 100) * 0.5"
   ],
   "metadata": {
    "collapsed": false
   }
  },
  {
   "cell_type": "code",
   "execution_count": null,
   "outputs": [],
   "source": [
    "ridgeCv = RidgeCV(alphas=lambdalar1, scoring=\"neg_mean_squared_error\", cv=10)\n",
    "ridgeCv.fit(x_train, y_train)"
   ],
   "metadata": {
    "collapsed": false
   }
  },
  {
   "cell_type": "code",
   "execution_count": null,
   "outputs": [],
   "source": [
    "ridgeCv.alpha_"
   ],
   "metadata": {
    "collapsed": false
   }
  },
  {
   "cell_type": "code",
   "execution_count": null,
   "outputs": [],
   "source": [
    "# final model\n",
    "ridge_tuned = Ridge(alpha=ridgeCv.alpha_).fit(x_train, y_train)"
   ],
   "metadata": {
    "collapsed": false
   }
  },
  {
   "cell_type": "code",
   "execution_count": null,
   "outputs": [],
   "source": [
    "y_pred = ridge_tuned.predict(x_test)\n",
    "np.sqrt(mean_squared_error(y_test, y_pred))"
   ],
   "metadata": {
    "collapsed": false
   }
  },
  {
   "cell_type": "markdown",
   "source": [
    "# LASSO REGRESSİON - L1\n",
    "Hata kareler toplamını minimize eden katsayıları bu katsayıları biz ceza uygulayarak bulmaktır.\n",
    "Tüm değişkenlerin modelde kalması dezavantajını gidermek için, katsayıları sıfıra yaklaştırır, birbirlerinden üstün değildirler"
   ],
   "metadata": {
    "collapsed": false
   }
  },
  {
   "cell_type": "code",
   "execution_count": 2,
   "outputs": [],
   "source": [
    "import numpy as np\n",
    "import pandas as pd\n",
    "from sklearn.linear_model import Ridge, Lasso\n",
    "from sklearn.metrics import mean_squared_error, r2_score\n",
    "from sklearn.model_selection import train_test_split\n",
    "from sklearn import model_selection\n",
    "import matplotlib.pyplot as plt\n",
    "from sklearn.linear_model import RidgeCV, LassoCV"
   ],
   "metadata": {
    "collapsed": false
   }
  },
  {
   "cell_type": "code",
   "execution_count": 6,
   "outputs": [],
   "source": [
    "df = pd.read_csv(\"data/Hitters.csv\")\n",
    "df = df.dropna()  # eksik değerler silindi\n",
    "dms = pd.get_dummies(df[['League', 'Division', 'NewLeague']])\n",
    "y = df[\"Salary\"]  # bagimli degisken\n",
    "x_ = df.drop(['Salary', 'League', 'Division', 'NewLeague'], axis=1).astype('float64')\n",
    "x = pd.concat([x_, dms[['League_N', 'Division_W', 'NewLeague_N']]], axis=1)\n",
    "x_train, x_test, y_train, y_test = train_test_split(x, y, test_size=0.25, random_state=42)"
   ],
   "metadata": {
    "collapsed": false
   }
  },
  {
   "cell_type": "code",
   "execution_count": 7,
   "outputs": [
    {
     "data": {
      "text/plain": "   AtBat  Hits  HmRun  Runs  RBI  Walks  Years  CAtBat  CHits  CHmRun  CRuns   \n1    315    81      7    24   38     39     14    3449    835      69    321  \\\n2    479   130     18    66   72     76      3    1624    457      63    224   \n3    496   141     20    65   78     37     11    5628   1575     225    828   \n4    321    87     10    39   42     30      2     396    101      12     48   \n5    594   169      4    74   51     35     11    4408   1133      19    501   \n\n   CRBI  CWalks League Division  PutOuts  Assists  Errors  Salary NewLeague  \n1   414     375      N        W      632       43      10   475.0         N  \n2   266     263      A        W      880       82      14   480.0         A  \n3   838     354      N        E      200       11       3   500.0         N  \n4    46      33      N        E      805       40       4    91.5         N  \n5   336     194      A        W      282      421      25   750.0         A  ",
      "text/html": "<div>\n<style scoped>\n    .dataframe tbody tr th:only-of-type {\n        vertical-align: middle;\n    }\n\n    .dataframe tbody tr th {\n        vertical-align: top;\n    }\n\n    .dataframe thead th {\n        text-align: right;\n    }\n</style>\n<table border=\"1\" class=\"dataframe\">\n  <thead>\n    <tr style=\"text-align: right;\">\n      <th></th>\n      <th>AtBat</th>\n      <th>Hits</th>\n      <th>HmRun</th>\n      <th>Runs</th>\n      <th>RBI</th>\n      <th>Walks</th>\n      <th>Years</th>\n      <th>CAtBat</th>\n      <th>CHits</th>\n      <th>CHmRun</th>\n      <th>CRuns</th>\n      <th>CRBI</th>\n      <th>CWalks</th>\n      <th>League</th>\n      <th>Division</th>\n      <th>PutOuts</th>\n      <th>Assists</th>\n      <th>Errors</th>\n      <th>Salary</th>\n      <th>NewLeague</th>\n    </tr>\n  </thead>\n  <tbody>\n    <tr>\n      <th>1</th>\n      <td>315</td>\n      <td>81</td>\n      <td>7</td>\n      <td>24</td>\n      <td>38</td>\n      <td>39</td>\n      <td>14</td>\n      <td>3449</td>\n      <td>835</td>\n      <td>69</td>\n      <td>321</td>\n      <td>414</td>\n      <td>375</td>\n      <td>N</td>\n      <td>W</td>\n      <td>632</td>\n      <td>43</td>\n      <td>10</td>\n      <td>475.0</td>\n      <td>N</td>\n    </tr>\n    <tr>\n      <th>2</th>\n      <td>479</td>\n      <td>130</td>\n      <td>18</td>\n      <td>66</td>\n      <td>72</td>\n      <td>76</td>\n      <td>3</td>\n      <td>1624</td>\n      <td>457</td>\n      <td>63</td>\n      <td>224</td>\n      <td>266</td>\n      <td>263</td>\n      <td>A</td>\n      <td>W</td>\n      <td>880</td>\n      <td>82</td>\n      <td>14</td>\n      <td>480.0</td>\n      <td>A</td>\n    </tr>\n    <tr>\n      <th>3</th>\n      <td>496</td>\n      <td>141</td>\n      <td>20</td>\n      <td>65</td>\n      <td>78</td>\n      <td>37</td>\n      <td>11</td>\n      <td>5628</td>\n      <td>1575</td>\n      <td>225</td>\n      <td>828</td>\n      <td>838</td>\n      <td>354</td>\n      <td>N</td>\n      <td>E</td>\n      <td>200</td>\n      <td>11</td>\n      <td>3</td>\n      <td>500.0</td>\n      <td>N</td>\n    </tr>\n    <tr>\n      <th>4</th>\n      <td>321</td>\n      <td>87</td>\n      <td>10</td>\n      <td>39</td>\n      <td>42</td>\n      <td>30</td>\n      <td>2</td>\n      <td>396</td>\n      <td>101</td>\n      <td>12</td>\n      <td>48</td>\n      <td>46</td>\n      <td>33</td>\n      <td>N</td>\n      <td>E</td>\n      <td>805</td>\n      <td>40</td>\n      <td>4</td>\n      <td>91.5</td>\n      <td>N</td>\n    </tr>\n    <tr>\n      <th>5</th>\n      <td>594</td>\n      <td>169</td>\n      <td>4</td>\n      <td>74</td>\n      <td>51</td>\n      <td>35</td>\n      <td>11</td>\n      <td>4408</td>\n      <td>1133</td>\n      <td>19</td>\n      <td>501</td>\n      <td>336</td>\n      <td>194</td>\n      <td>A</td>\n      <td>W</td>\n      <td>282</td>\n      <td>421</td>\n      <td>25</td>\n      <td>750.0</td>\n      <td>A</td>\n    </tr>\n  </tbody>\n</table>\n</div>"
     },
     "execution_count": 7,
     "metadata": {},
     "output_type": "execute_result"
    }
   ],
   "source": [
    "df.head()"
   ],
   "metadata": {
    "collapsed": false
   }
  },
  {
   "cell_type": "code",
   "execution_count": 8,
   "outputs": [
    {
     "data": {
      "text/plain": "(263, 20)"
     },
     "execution_count": 8,
     "metadata": {},
     "output_type": "execute_result"
    }
   ],
   "source": [
    "df.shape"
   ],
   "metadata": {
    "collapsed": false
   }
  },
  {
   "cell_type": "code",
   "execution_count": 10,
   "outputs": [
    {
     "name": "stderr",
     "output_type": "stream",
     "text": [
      "D:\\Yazilim\\Yapay Zeka\\Machine Learning\\venv\\lib\\site-packages\\sklearn\\linear_model\\_coordinate_descent.py:631: ConvergenceWarning: Objective did not converge. You might want to increase the number of iterations, check the scale of the features or consider increasing regularisation. Duality gap: 8.257e+06, tolerance: 3.899e+03\n",
      "  model = cd_fast.enet_coordinate_descent(\n"
     ]
    }
   ],
   "source": [
    "lasso_model = Lasso().fit(x_train, y_train)"
   ],
   "metadata": {
    "collapsed": false
   }
  },
  {
   "cell_type": "code",
   "execution_count": 12,
   "outputs": [
    {
     "data": {
      "text/plain": "-5.587450677336506"
     },
     "execution_count": 12,
     "metadata": {},
     "output_type": "execute_result"
    }
   ],
   "source": [
    "lasso_model.intercept_"
   ],
   "metadata": {
    "collapsed": false
   }
  },
  {
   "cell_type": "code",
   "execution_count": 13,
   "outputs": [
    {
     "data": {
      "text/plain": "array([-1.74875691e+00,  8.59204135e+00,  6.67993798e+00, -3.06715333e+00,\n       -1.91843070e+00,  5.32372890e+00,  8.39184117e+00, -1.63172447e-01,\n       -8.22311277e-02, -3.93602861e-01,  1.71118530e+00,  6.55730545e-01,\n       -6.48379405e-01,  2.59815358e-01,  2.73041157e-01, -4.41440454e-01,\n        8.54474011e+01, -9.59701213e+01, -2.13086605e+01])"
     },
     "execution_count": 13,
     "metadata": {},
     "output_type": "execute_result"
    }
   ],
   "source": [
    "lasso_model.coef_"
   ],
   "metadata": {
    "collapsed": false
   }
  },
  {
   "cell_type": "code",
   "execution_count": 18,
   "outputs": [
    {
     "name": "stderr",
     "output_type": "stream",
     "text": [
      "D:\\Yazilim\\Yapay Zeka\\Machine Learning\\venv\\lib\\site-packages\\sklearn\\linear_model\\_coordinate_descent.py:631: ConvergenceWarning: Objective did not converge. You might want to increase the number of iterations, check the scale of the features or consider increasing regularisation. Duality gap: 5.470e+03, tolerance: 3.899e+03\n",
      "  model = cd_fast.enet_coordinate_descent(\n",
      "D:\\Yazilim\\Yapay Zeka\\Machine Learning\\venv\\lib\\site-packages\\sklearn\\linear_model\\_coordinate_descent.py:631: ConvergenceWarning: Objective did not converge. You might want to increase the number of iterations, check the scale of the features or consider increasing regularisation. Duality gap: 6.540e+03, tolerance: 3.899e+03\n",
      "  model = cd_fast.enet_coordinate_descent(\n",
      "D:\\Yazilim\\Yapay Zeka\\Machine Learning\\venv\\lib\\site-packages\\sklearn\\linear_model\\_coordinate_descent.py:631: ConvergenceWarning: Objective did not converge. You might want to increase the number of iterations, check the scale of the features or consider increasing regularisation. Duality gap: 4.002e+03, tolerance: 3.899e+03\n",
      "  model = cd_fast.enet_coordinate_descent(\n",
      "D:\\Yazilim\\Yapay Zeka\\Machine Learning\\venv\\lib\\site-packages\\sklearn\\linear_model\\_coordinate_descent.py:631: ConvergenceWarning: Objective did not converge. You might want to increase the number of iterations, check the scale of the features or consider increasing regularisation. Duality gap: 5.358e+03, tolerance: 3.899e+03\n",
      "  model = cd_fast.enet_coordinate_descent(\n",
      "D:\\Yazilim\\Yapay Zeka\\Machine Learning\\venv\\lib\\site-packages\\sklearn\\linear_model\\_coordinate_descent.py:631: ConvergenceWarning: Objective did not converge. You might want to increase the number of iterations, check the scale of the features or consider increasing regularisation. Duality gap: 5.544e+03, tolerance: 3.899e+03\n",
      "  model = cd_fast.enet_coordinate_descent(\n",
      "D:\\Yazilim\\Yapay Zeka\\Machine Learning\\venv\\lib\\site-packages\\sklearn\\linear_model\\_coordinate_descent.py:631: ConvergenceWarning: Objective did not converge. You might want to increase the number of iterations, check the scale of the features or consider increasing regularisation. Duality gap: 3.898e+04, tolerance: 3.899e+03\n",
      "  model = cd_fast.enet_coordinate_descent(\n",
      "D:\\Yazilim\\Yapay Zeka\\Machine Learning\\venv\\lib\\site-packages\\sklearn\\linear_model\\_coordinate_descent.py:631: ConvergenceWarning: Objective did not converge. You might want to increase the number of iterations, check the scale of the features or consider increasing regularisation. Duality gap: 4.437e+06, tolerance: 3.899e+03\n",
      "  model = cd_fast.enet_coordinate_descent(\n",
      "D:\\Yazilim\\Yapay Zeka\\Machine Learning\\venv\\lib\\site-packages\\sklearn\\linear_model\\_coordinate_descent.py:631: ConvergenceWarning: Objective did not converge. You might want to increase the number of iterations, check the scale of the features or consider increasing regularisation. Duality gap: 6.555e+06, tolerance: 3.899e+03\n",
      "  model = cd_fast.enet_coordinate_descent(\n",
      "D:\\Yazilim\\Yapay Zeka\\Machine Learning\\venv\\lib\\site-packages\\sklearn\\linear_model\\_coordinate_descent.py:631: ConvergenceWarning: Objective did not converge. You might want to increase the number of iterations, check the scale of the features or consider increasing regularisation. Duality gap: 7.518e+06, tolerance: 3.899e+03\n",
      "  model = cd_fast.enet_coordinate_descent(\n",
      "D:\\Yazilim\\Yapay Zeka\\Machine Learning\\venv\\lib\\site-packages\\sklearn\\linear_model\\_coordinate_descent.py:631: ConvergenceWarning: Objective did not converge. You might want to increase the number of iterations, check the scale of the features or consider increasing regularisation. Duality gap: 7.913e+06, tolerance: 3.899e+03\n",
      "  model = cd_fast.enet_coordinate_descent(\n",
      "D:\\Yazilim\\Yapay Zeka\\Machine Learning\\venv\\lib\\site-packages\\sklearn\\linear_model\\_coordinate_descent.py:631: ConvergenceWarning: Objective did not converge. You might want to increase the number of iterations, check the scale of the features or consider increasing regularisation. Duality gap: 8.063e+06, tolerance: 3.899e+03\n",
      "  model = cd_fast.enet_coordinate_descent(\n",
      "D:\\Yazilim\\Yapay Zeka\\Machine Learning\\venv\\lib\\site-packages\\sklearn\\linear_model\\_coordinate_descent.py:631: ConvergenceWarning: Objective did not converge. You might want to increase the number of iterations, check the scale of the features or consider increasing regularisation. Duality gap: 8.148e+06, tolerance: 3.899e+03\n",
      "  model = cd_fast.enet_coordinate_descent(\n",
      "D:\\Yazilim\\Yapay Zeka\\Machine Learning\\venv\\lib\\site-packages\\sklearn\\linear_model\\_coordinate_descent.py:631: ConvergenceWarning: Objective did not converge. You might want to increase the number of iterations, check the scale of the features or consider increasing regularisation. Duality gap: 8.196e+06, tolerance: 3.899e+03\n",
      "  model = cd_fast.enet_coordinate_descent(\n",
      "D:\\Yazilim\\Yapay Zeka\\Machine Learning\\venv\\lib\\site-packages\\sklearn\\linear_model\\_coordinate_descent.py:631: ConvergenceWarning: Objective did not converge. You might want to increase the number of iterations, check the scale of the features or consider increasing regularisation. Duality gap: 8.223e+06, tolerance: 3.899e+03\n",
      "  model = cd_fast.enet_coordinate_descent(\n",
      "D:\\Yazilim\\Yapay Zeka\\Machine Learning\\venv\\lib\\site-packages\\sklearn\\linear_model\\_coordinate_descent.py:631: ConvergenceWarning: Objective did not converge. You might want to increase the number of iterations, check the scale of the features or consider increasing regularisation. Duality gap: 8.239e+06, tolerance: 3.899e+03\n",
      "  model = cd_fast.enet_coordinate_descent(\n",
      "D:\\Yazilim\\Yapay Zeka\\Machine Learning\\venv\\lib\\site-packages\\sklearn\\linear_model\\_coordinate_descent.py:631: ConvergenceWarning: Objective did not converge. You might want to increase the number of iterations, check the scale of the features or consider increasing regularisation. Duality gap: 8.248e+06, tolerance: 3.899e+03\n",
      "  model = cd_fast.enet_coordinate_descent(\n",
      "D:\\Yazilim\\Yapay Zeka\\Machine Learning\\venv\\lib\\site-packages\\sklearn\\linear_model\\_coordinate_descent.py:631: ConvergenceWarning: Objective did not converge. You might want to increase the number of iterations, check the scale of the features or consider increasing regularisation. Duality gap: 8.254e+06, tolerance: 3.899e+03\n",
      "  model = cd_fast.enet_coordinate_descent(\n",
      "D:\\Yazilim\\Yapay Zeka\\Machine Learning\\venv\\lib\\site-packages\\sklearn\\linear_model\\_coordinate_descent.py:631: ConvergenceWarning: Objective did not converge. You might want to increase the number of iterations, check the scale of the features or consider increasing regularisation. Duality gap: 8.257e+06, tolerance: 3.899e+03\n",
      "  model = cd_fast.enet_coordinate_descent(\n",
      "D:\\Yazilim\\Yapay Zeka\\Machine Learning\\venv\\lib\\site-packages\\sklearn\\linear_model\\_coordinate_descent.py:631: ConvergenceWarning: Objective did not converge. You might want to increase the number of iterations, check the scale of the features or consider increasing regularisation. Duality gap: 8.257e+06, tolerance: 3.899e+03\n",
      "  model = cd_fast.enet_coordinate_descent(\n",
      "D:\\Yazilim\\Yapay Zeka\\Machine Learning\\venv\\lib\\site-packages\\sklearn\\linear_model\\_coordinate_descent.py:631: ConvergenceWarning: Objective did not converge. You might want to increase the number of iterations, check the scale of the features or consider increasing regularisation. Duality gap: 8.256e+06, tolerance: 3.899e+03\n",
      "  model = cd_fast.enet_coordinate_descent(\n",
      "D:\\Yazilim\\Yapay Zeka\\Machine Learning\\venv\\lib\\site-packages\\sklearn\\linear_model\\_coordinate_descent.py:631: ConvergenceWarning: Objective did not converge. You might want to increase the number of iterations, check the scale of the features or consider increasing regularisation. Duality gap: 8.254e+06, tolerance: 3.899e+03\n",
      "  model = cd_fast.enet_coordinate_descent(\n",
      "D:\\Yazilim\\Yapay Zeka\\Machine Learning\\venv\\lib\\site-packages\\sklearn\\linear_model\\_coordinate_descent.py:631: ConvergenceWarning: Objective did not converge. You might want to increase the number of iterations, check the scale of the features or consider increasing regularisation. Duality gap: 8.253e+06, tolerance: 3.899e+03\n",
      "  model = cd_fast.enet_coordinate_descent(\n",
      "D:\\Yazilim\\Yapay Zeka\\Machine Learning\\venv\\lib\\site-packages\\sklearn\\linear_model\\_coordinate_descent.py:631: ConvergenceWarning: Objective did not converge. You might want to increase the number of iterations, check the scale of the features or consider increasing regularisation. Duality gap: 8.252e+06, tolerance: 3.899e+03\n",
      "  model = cd_fast.enet_coordinate_descent(\n",
      "D:\\Yazilim\\Yapay Zeka\\Machine Learning\\venv\\lib\\site-packages\\sklearn\\linear_model\\_coordinate_descent.py:631: ConvergenceWarning: Objective did not converge. You might want to increase the number of iterations, check the scale of the features or consider increasing regularisation. Duality gap: 8.251e+06, tolerance: 3.899e+03\n",
      "  model = cd_fast.enet_coordinate_descent(\n",
      "D:\\Yazilim\\Yapay Zeka\\Machine Learning\\venv\\lib\\site-packages\\sklearn\\linear_model\\_coordinate_descent.py:631: ConvergenceWarning: Objective did not converge. You might want to increase the number of iterations, check the scale of the features or consider increasing regularisation. Duality gap: 8.250e+06, tolerance: 3.899e+03\n",
      "  model = cd_fast.enet_coordinate_descent(\n",
      "D:\\Yazilim\\Yapay Zeka\\Machine Learning\\venv\\lib\\site-packages\\sklearn\\linear_model\\_coordinate_descent.py:631: ConvergenceWarning: Objective did not converge. You might want to increase the number of iterations, check the scale of the features or consider increasing regularisation. Duality gap: 8.250e+06, tolerance: 3.899e+03\n",
      "  model = cd_fast.enet_coordinate_descent(\n",
      "D:\\Yazilim\\Yapay Zeka\\Machine Learning\\venv\\lib\\site-packages\\sklearn\\linear_model\\_coordinate_descent.py:631: ConvergenceWarning: Objective did not converge. You might want to increase the number of iterations, check the scale of the features or consider increasing regularisation. Duality gap: 8.249e+06, tolerance: 3.899e+03\n",
      "  model = cd_fast.enet_coordinate_descent(\n",
      "D:\\Yazilim\\Yapay Zeka\\Machine Learning\\venv\\lib\\site-packages\\sklearn\\linear_model\\_coordinate_descent.py:631: ConvergenceWarning: Objective did not converge. You might want to increase the number of iterations, check the scale of the features or consider increasing regularisation. Duality gap: 8.249e+06, tolerance: 3.899e+03\n",
      "  model = cd_fast.enet_coordinate_descent(\n",
      "D:\\Yazilim\\Yapay Zeka\\Machine Learning\\venv\\lib\\site-packages\\sklearn\\linear_model\\_coordinate_descent.py:631: ConvergenceWarning: Objective did not converge. You might want to increase the number of iterations, check the scale of the features or consider increasing regularisation. Duality gap: 8.249e+06, tolerance: 3.899e+03\n",
      "  model = cd_fast.enet_coordinate_descent(\n",
      "D:\\Yazilim\\Yapay Zeka\\Machine Learning\\venv\\lib\\site-packages\\sklearn\\linear_model\\_coordinate_descent.py:631: ConvergenceWarning: Objective did not converge. You might want to increase the number of iterations, check the scale of the features or consider increasing regularisation. Duality gap: 8.248e+06, tolerance: 3.899e+03\n",
      "  model = cd_fast.enet_coordinate_descent(\n",
      "D:\\Yazilim\\Yapay Zeka\\Machine Learning\\venv\\lib\\site-packages\\sklearn\\linear_model\\_coordinate_descent.py:631: ConvergenceWarning: Objective did not converge. You might want to increase the number of iterations, check the scale of the features or consider increasing regularisation. Duality gap: 8.248e+06, tolerance: 3.899e+03\n",
      "  model = cd_fast.enet_coordinate_descent(\n",
      "D:\\Yazilim\\Yapay Zeka\\Machine Learning\\venv\\lib\\site-packages\\sklearn\\linear_model\\_coordinate_descent.py:631: ConvergenceWarning: Objective did not converge. You might want to increase the number of iterations, check the scale of the features or consider increasing regularisation. Duality gap: 8.248e+06, tolerance: 3.899e+03\n",
      "  model = cd_fast.enet_coordinate_descent(\n",
      "D:\\Yazilim\\Yapay Zeka\\Machine Learning\\venv\\lib\\site-packages\\sklearn\\linear_model\\_coordinate_descent.py:631: ConvergenceWarning: Objective did not converge. You might want to increase the number of iterations, check the scale of the features or consider increasing regularisation. Duality gap: 8.248e+06, tolerance: 3.899e+03\n",
      "  model = cd_fast.enet_coordinate_descent(\n",
      "D:\\Yazilim\\Yapay Zeka\\Machine Learning\\venv\\lib\\site-packages\\sklearn\\linear_model\\_coordinate_descent.py:631: ConvergenceWarning: Objective did not converge. You might want to increase the number of iterations, check the scale of the features or consider increasing regularisation. Duality gap: 8.248e+06, tolerance: 3.899e+03\n",
      "  model = cd_fast.enet_coordinate_descent(\n",
      "D:\\Yazilim\\Yapay Zeka\\Machine Learning\\venv\\lib\\site-packages\\sklearn\\linear_model\\_coordinate_descent.py:631: ConvergenceWarning: Objective did not converge. You might want to increase the number of iterations, check the scale of the features or consider increasing regularisation. Duality gap: 8.248e+06, tolerance: 3.899e+03\n",
      "  model = cd_fast.enet_coordinate_descent(\n",
      "D:\\Yazilim\\Yapay Zeka\\Machine Learning\\venv\\lib\\site-packages\\sklearn\\linear_model\\_coordinate_descent.py:631: ConvergenceWarning: Objective did not converge. You might want to increase the number of iterations, check the scale of the features or consider increasing regularisation. Duality gap: 8.248e+06, tolerance: 3.899e+03\n",
      "  model = cd_fast.enet_coordinate_descent(\n",
      "D:\\Yazilim\\Yapay Zeka\\Machine Learning\\venv\\lib\\site-packages\\sklearn\\linear_model\\_coordinate_descent.py:631: ConvergenceWarning: Objective did not converge. You might want to increase the number of iterations, check the scale of the features or consider increasing regularisation. Duality gap: 8.248e+06, tolerance: 3.899e+03\n",
      "  model = cd_fast.enet_coordinate_descent(\n",
      "D:\\Yazilim\\Yapay Zeka\\Machine Learning\\venv\\lib\\site-packages\\sklearn\\linear_model\\_coordinate_descent.py:631: ConvergenceWarning: Objective did not converge. You might want to increase the number of iterations, check the scale of the features or consider increasing regularisation. Duality gap: 8.248e+06, tolerance: 3.899e+03\n",
      "  model = cd_fast.enet_coordinate_descent(\n"
     ]
    }
   ],
   "source": [
    "lasso = Lasso()\n",
    "coefs = []\n",
    "alphas = np.random.randint(0, 100000, 10)\n",
    "alphas2 = 10 ** np.linspace(10, -2, 100) * 0.5\n",
    "\n",
    "for a in alphas2:\n",
    "    lasso.set_params(alpha=a)\n",
    "    lasso.fit(x_train, y_train)\n",
    "    coefs.append(lasso.coef_)"
   ],
   "metadata": {
    "collapsed": false
   }
  },
  {
   "cell_type": "code",
   "execution_count": 20,
   "outputs": [
    {
     "data": {
      "text/plain": "<Figure size 640x480 with 1 Axes>",
      "image/png": "[encoded data removed]"
     },
     "metadata": {},
     "output_type": "display_data"
    }
   ],
   "source": [
    "ax = plt.gca()\n",
    "ax.plot(alphas2, coefs)\n",
    "ax.set_xscale(\"log\")"
   ],
   "metadata": {
    "collapsed": false
   }
  },
  {
   "cell_type": "markdown",
   "source": [
    "# TAHMIN"
   ],
   "metadata": {
    "collapsed": false
   }
  },
  {
   "cell_type": "code",
   "execution_count": 21,
   "outputs": [
    {
     "data": {
      "text/plain": "Lasso()",
      "text/html": "<style>#sk-container-id-3 {color: black;background-color: white;}#sk-container-id-3 pre{padding: 0;}#sk-container-id-3 div.sk-toggleable {background-color: white;}#sk-container-id-3 label.sk-toggleable__label {cursor: pointer;display: block;width: 100%;margin-bottom: 0;padding: 0.3em;box-sizing: border-box;text-align: center;}#sk-container-id-3 label.sk-toggleable__label-arrow:before {content: \"▸\";float: left;margin-right: 0.25em;color: #696969;}#sk-container-id-3 label.sk-toggleable__label-arrow:hover:before {color: black;}#sk-container-id-3 div.sk-estimator:hover label.sk-toggleable__label-arrow:before {color: black;}#sk-container-id-3 div.sk-toggleable__content {max-height: 0;max-width: 0;overflow: hidden;text-align: left;background-color: #f0f8ff;}#sk-container-id-3 div.sk-toggleable__content pre {margin: 0.2em;color: black;border-radius: 0.25em;background-color: #f0f8ff;}#sk-container-id-3 input.sk-toggleable__control:checked~div.sk-toggleable__content {max-height: 200px;max-width: 100%;overflow: auto;}#sk-container-id-3 input.sk-toggleable__control:checked~label.sk-toggleable__label-arrow:before {content: \"▾\";}#sk-container-id-3 div.sk-estimator input.sk-toggleable__control:checked~label.sk-toggleable__label {background-color: #d4ebff;}#sk-container-id-3 div.sk-label input.sk-toggleable__control:checked~label.sk-toggleable__label {background-color: #d4ebff;}#sk-container-id-3 input.sk-hidden--visually {border: 0;clip: rect(1px 1px 1px 1px);clip: rect(1px, 1px, 1px, 1px);height: 1px;margin: -1px;overflow: hidden;padding: 0;position: absolute;width: 1px;}#sk-container-id-3 div.sk-estimator {font-family: monospace;background-color: #f0f8ff;border: 1px dotted black;border-radius: 0.25em;box-sizing: border-box;margin-bottom: 0.5em;}#sk-container-id-3 div.sk-estimator:hover {background-color: #d4ebff;}#sk-container-id-3 div.sk-parallel-item::after {content: \"\";width: 100%;border-bottom: 1px solid gray;flex-grow: 1;}#sk-container-id-3 div.sk-label:hover label.sk-toggleable__label {background-color: #d4ebff;}#sk-container-id-3 div.sk-serial::before {content: \"\";position: absolute;border-left: 1px solid gray;box-sizing: border-box;top: 0;bottom: 0;left: 50%;z-index: 0;}#sk-container-id-3 div.sk-serial {display: flex;flex-direction: column;align-items: center;background-color: white;padding-right: 0.2em;padding-left: 0.2em;position: relative;}#sk-container-id-3 div.sk-item {position: relative;z-index: 1;}#sk-container-id-3 div.sk-parallel {display: flex;align-items: stretch;justify-content: center;background-color: white;position: relative;}#sk-container-id-3 div.sk-item::before, #sk-container-id-3 div.sk-parallel-item::before {content: \"\";position: absolute;border-left: 1px solid gray;box-sizing: border-box;top: 0;bottom: 0;left: 50%;z-index: -1;}#sk-container-id-3 div.sk-parallel-item {display: flex;flex-direction: column;z-index: 1;position: relative;background-color: white;}#sk-container-id-3 div.sk-parallel-item:first-child::after {align-self: flex-end;width: 50%;}#sk-container-id-3 div.sk-parallel-item:last-child::after {align-self: flex-start;width: 50%;}#sk-container-id-3 div.sk-parallel-item:only-child::after {width: 0;}#sk-container-id-3 div.sk-dashed-wrapped {border: 1px dashed gray;margin: 0 0.4em 0.5em 0.4em;box-sizing: border-box;padding-bottom: 0.4em;background-color: white;}#sk-container-id-3 div.sk-label label {font-family: monospace;font-weight: bold;display: inline-block;line-height: 1.2em;}#sk-container-id-3 div.sk-label-container {text-align: center;}#sk-container-id-3 div.sk-container {/* jupyter's `normalize.less` sets `[hidden] { display: none; }` but bootstrap.min.css set `[hidden] { display: none !important; }` so we also need the `!important` here to be able to override the default hidden behavior on the sphinx rendered scikit-learn.org. See: https://github.com/scikit-learn/scikit-learn/issues/21755 */display: inline-block !important;position: relative;}#sk-container-id-3 div.sk-text-repr-fallback {display: none;}</style><div id=\"sk-container-id-3\" class=\"sk-top-container\"><div class=\"sk-text-repr-fallback\"><pre>Lasso()</pre><b>In a Jupyter environment, please rerun this cell to show the HTML representation or trust the notebook. <br />On GitHub, the HTML representation is unable to render, please try loading this page with nbviewer.org.</b></div><div class=\"sk-container\" hidden><div class=\"sk-item\"><div class=\"sk-estimator sk-toggleable\"><input class=\"sk-toggleable__control sk-hidden--visually\" id=\"sk-estimator-id-3\" type=\"checkbox\" checked><label for=\"sk-estimator-id-3\" class=\"sk-toggleable__label sk-toggleable__label-arrow\">Lasso</label><div class=\"sk-toggleable__content\"><pre>Lasso()</pre></div></div></div></div></div>"
     },
     "execution_count": 21,
     "metadata": {},
     "output_type": "execute_result"
    }
   ],
   "source": [
    "lasso_model"
   ],
   "metadata": {
    "collapsed": false
   }
  },
  {
   "cell_type": "code",
   "execution_count": 22,
   "outputs": [
    {
     "data": {
      "text/plain": "array([377.26270596, 786.51524513, 495.14140718, 117.19492966,\n       429.04228506])"
     },
     "execution_count": 22,
     "metadata": {},
     "output_type": "execute_result"
    }
   ],
   "source": [
    "lasso_model.predict(x_train)[0:5]"
   ],
   "metadata": {
    "collapsed": false
   }
  },
  {
   "cell_type": "code",
   "execution_count": 23,
   "outputs": [
    {
     "data": {
      "text/plain": "array([ 609.18826367,  696.96810702, 1009.06157391,  412.22773375,\n        409.25851712])"
     },
     "execution_count": 23,
     "metadata": {},
     "output_type": "execute_result"
    }
   ],
   "source": [
    "lasso_model.predict(x_test)[0:5]"
   ],
   "metadata": {
    "collapsed": false
   }
  },
  {
   "cell_type": "code",
   "execution_count": 27,
   "outputs": [],
   "source": [
    "y_pred = lasso_model.predict(x_test)"
   ],
   "metadata": {
    "collapsed": false
   }
  },
  {
   "cell_type": "code",
   "execution_count": 28,
   "outputs": [
    {
     "data": {
      "text/plain": "356.0975884554034"
     },
     "execution_count": 28,
     "metadata": {},
     "output_type": "execute_result"
    }
   ],
   "source": [
    "np.sqrt(mean_squared_error(y_test, y_pred))"
   ],
   "metadata": {
    "collapsed": false
   }
  },
  {
   "cell_type": "code",
   "execution_count": 29,
   "outputs": [
    {
     "data": {
      "text/plain": "0.41422798132366156"
     },
     "execution_count": 29,
     "metadata": {},
     "output_type": "execute_result"
    }
   ],
   "source": [
    "r2_score(y_test, y_pred)  # modelin açıklanabilirliği"
   ],
   "metadata": {
    "collapsed": false
   }
  },
  {
   "cell_type": "markdown",
   "source": [
    "# MODEL TUNING"
   ],
   "metadata": {
    "collapsed": false
   }
  },
  {
   "cell_type": "code",
   "execution_count": 45,
   "outputs": [
    {
     "ename": "NameError",
     "evalue": "name 'alphas1' is not defined",
     "output_type": "error",
     "traceback": [
      "\u001B[1;31m---------------------------------------------------------------------------\u001B[0m",
      "\u001B[1;31mNameError\u001B[0m                                 Traceback (most recent call last)",
      "Cell \u001B[1;32mIn[45], line 1\u001B[0m\n\u001B[1;32m----> 1\u001B[0m lasso_cv_model \u001B[38;5;241m=\u001B[39m LassoCV(alphas\u001B[38;5;241m=\u001B[39m\u001B[43malphas1\u001B[49m, cv\u001B[38;5;241m=\u001B[39m\u001B[38;5;241m10\u001B[39m, max_iter\u001B[38;5;241m=\u001B[39m\u001B[38;5;241m100000\u001B[39m)\u001B[38;5;241m.\u001B[39mfit(x_train, y_train)\n",
      "\u001B[1;31mNameError\u001B[0m: name 'alphas1' is not defined"
     ]
    }
   ],
   "source": [
    "lasso_cv_model = LassoCV(alphas=alphas, cv=10, max_iter=100000).fit(x_train, y_train)"
   ],
   "metadata": {
    "collapsed": false
   }
  },
  {
   "cell_type": "code",
   "execution_count": 41,
   "outputs": [
    {
     "data": {
      "text/plain": "273"
     },
     "execution_count": 41,
     "metadata": {},
     "output_type": "execute_result"
    }
   ],
   "source": [
    "lasso_cv_model.alpha_"
   ],
   "metadata": {
    "collapsed": false
   }
  },
  {
   "cell_type": "code",
   "execution_count": 42,
   "outputs": [
    {
     "name": "stderr",
     "output_type": "stream",
     "text": [
      "D:\\Yazilim\\Yapay Zeka\\Machine Learning\\venv\\lib\\site-packages\\sklearn\\linear_model\\_coordinate_descent.py:631: ConvergenceWarning: Objective did not converge. You might want to increase the number of iterations, check the scale of the features or consider increasing regularisation. Duality gap: 6.176e+03, tolerance: 3.899e+03\n",
      "  model = cd_fast.enet_coordinate_descent(\n"
     ]
    }
   ],
   "source": [
    "lasso_tuned = Lasso().set_params(alpha=lasso_cv_model.alpha_).fit(x_train, y_train)"
   ],
   "metadata": {
    "collapsed": false
   }
  },
  {
   "cell_type": "code",
   "execution_count": 43,
   "outputs": [],
   "source": [
    "y_pred = lasso_tuned.predict(x_test)"
   ],
   "metadata": {
    "collapsed": false
   }
  },
  {
   "cell_type": "code",
   "execution_count": 44,
   "outputs": [
    {
     "data": {
      "text/plain": "366.9636282059264"
     },
     "execution_count": 44,
     "metadata": {},
     "output_type": "execute_result"
    }
   ],
   "source": [
    "np.sqrt(mean_squared_error(y_test, y_pred))"
   ],
   "metadata": {
    "collapsed": false
   }
  },
  {
   "cell_type": "code",
   "execution_count": 47,
   "outputs": [
    {
     "data": {
      "text/plain": "AtBat         -0.697915\nHits           4.443646\nHmRun          0.000000\nRuns           0.000000\nRBI            0.000000\nWalks          1.950734\nYears          0.000000\nCAtBat        -0.190969\nCHits          0.340296\nCHmRun        -0.000000\nCRuns          0.908840\nCRBI           0.452739\nCWalks        -0.071064\nPutOuts        0.270746\nAssists        0.139457\nErrors        -0.000000\nLeague_N       0.000000\nDivision_W    -0.000000\nNewLeague_N    0.000000\ndtype: float64"
     },
     "execution_count": 47,
     "metadata": {},
     "output_type": "execute_result"
    }
   ],
   "source": [
    "pd.Series(lasso_tuned.coef_, index=x_train.columns)"
   ],
   "metadata": {
    "collapsed": false
   }
  },
  {
   "cell_type": "markdown",
   "source": [
    "# ELASTICNET REGRESSION\n",
    "L1 ve L2 yaklaşımlarını birleştirir\n",
    "Daha etkin düzgünleştirme yapar. Cezalandırma ve değişken seçimi, aşırı öğrenmeye vs dayanıklıdır"
   ],
   "metadata": {
    "collapsed": false
   }
  },
  {
   "cell_type": "code",
   "execution_count": 48,
   "outputs": [],
   "source": [
    "from sklearn.linear_model import ElasticNet\n",
    "from sklearn.linear_model import ElasticNetCV"
   ],
   "metadata": {
    "collapsed": false
   }
  },
  {
   "cell_type": "code",
   "execution_count": 50,
   "outputs": [
    {
     "name": "stderr",
     "output_type": "stream",
     "text": [
      "D:\\Yazilim\\Yapay Zeka\\Machine Learning\\venv\\lib\\site-packages\\sklearn\\linear_model\\_coordinate_descent.py:631: ConvergenceWarning: Objective did not converge. You might want to increase the number of iterations, check the scale of the features or consider increasing regularisation. Duality gap: 8.488e+06, tolerance: 3.899e+03\n",
      "  model = cd_fast.enet_coordinate_descent(\n"
     ]
    }
   ],
   "source": [
    "enet_model = ElasticNet().fit(x_train, y_train)"
   ],
   "metadata": {
    "collapsed": false
   }
  },
  {
   "cell_type": "code",
   "execution_count": 51,
   "outputs": [
    {
     "data": {
      "text/plain": "array([ -1.86256172,   8.70489065,   5.10426375,  -2.89875799,\n        -1.28642985,   5.24343682,   6.04480276,  -0.14701495,\n        -0.21566628,  -0.7897201 ,   1.80813117,   0.80914508,\n        -0.61262382,   0.26816203,   0.27172387,  -0.36530729,\n        19.2186222 , -31.16586592,   8.98369938])"
     },
     "execution_count": 51,
     "metadata": {},
     "output_type": "execute_result"
    }
   ],
   "source": [
    "enet_model.coef_"
   ],
   "metadata": {
    "collapsed": false
   }
  },
  {
   "cell_type": "code",
   "execution_count": 52,
   "outputs": [
    {
     "data": {
      "text/plain": "-6.465955602112331"
     },
     "execution_count": 52,
     "metadata": {},
     "output_type": "execute_result"
    }
   ],
   "source": [
    "enet_model.intercept_"
   ],
   "metadata": {
    "collapsed": false
   }
  },
  {
   "cell_type": "code",
   "execution_count": 53,
   "outputs": [
    {
     "data": {
      "text/plain": "array([325.74706292, 776.06632333, 522.86508419, 107.64091955,\n       449.03139566, 997.76095723,  99.78828622, 311.33763086,\n       418.50335021, 879.9502608 ])"
     },
     "execution_count": 53,
     "metadata": {},
     "output_type": "execute_result"
    }
   ],
   "source": [
    "enet_model.predict(x_train)[0:10]"
   ],
   "metadata": {
    "collapsed": false
   }
  },
  {
   "cell_type": "code",
   "execution_count": 54,
   "outputs": [
    {
     "data": {
      "text/plain": "array([ 577.79111731,  617.33202224, 1031.39113156,  364.95861575,\n        489.51894393,  300.74185842,  604.522666  ,  465.34678732,\n        901.44473965,  703.20357123])"
     },
     "execution_count": 54,
     "metadata": {},
     "output_type": "execute_result"
    }
   ],
   "source": [
    "enet_model.predict(x_test)[0:10]"
   ],
   "metadata": {
    "collapsed": false
   }
  },
  {
   "cell_type": "code",
   "execution_count": 55,
   "outputs": [],
   "source": [
    "y_pred = enet_model.predict(x_test)"
   ],
   "metadata": {
    "collapsed": false
   }
  },
  {
   "cell_type": "code",
   "execution_count": 56,
   "outputs": [
    {
     "data": {
      "text/plain": "357.1676548181246"
     },
     "execution_count": 56,
     "metadata": {},
     "output_type": "execute_result"
    }
   ],
   "source": [
    "np.sqrt(mean_squared_error(y_test, y_pred))"
   ],
   "metadata": {
    "collapsed": false
   }
  },
  {
   "cell_type": "code",
   "execution_count": 57,
   "outputs": [
    {
     "data": {
      "text/plain": "0.41070222469326867"
     },
     "execution_count": 57,
     "metadata": {},
     "output_type": "execute_result"
    }
   ],
   "source": [
    "r2_score(y_test, y_pred)"
   ],
   "metadata": {
    "collapsed": false
   }
  },
  {
   "cell_type": "markdown",
   "source": [
    "# MODELTUNING"
   ],
   "metadata": {
    "collapsed": false
   }
  },
  {
   "cell_type": "code",
   "execution_count": 75,
   "outputs": [
    {
     "name": "stderr",
     "output_type": "stream",
     "text": [
      "D:\\Yazilim\\Yapay Zeka\\Machine Learning\\venv\\lib\\site-packages\\sklearn\\linear_model\\_coordinate_descent.py:617: ConvergenceWarning: Objective did not converge. You might want to increase the number of iterations. Duality gap: 3249.9483074881136, tolerance: 3241.4244490642727\n",
      "  model = cd_fast.enet_coordinate_descent_gram(\n",
      "D:\\Yazilim\\Yapay Zeka\\Machine Learning\\venv\\lib\\site-packages\\sklearn\\linear_model\\_coordinate_descent.py:617: ConvergenceWarning: Objective did not converge. You might want to increase the number of iterations. Duality gap: 4337.003151979297, tolerance: 3241.4244490642727\n",
      "  model = cd_fast.enet_coordinate_descent_gram(\n",
      "D:\\Yazilim\\Yapay Zeka\\Machine Learning\\venv\\lib\\site-packages\\sklearn\\linear_model\\_coordinate_descent.py:617: ConvergenceWarning: Objective did not converge. You might want to increase the number of iterations. Duality gap: 5751.424798792228, tolerance: 3241.4244490642727\n",
      "  model = cd_fast.enet_coordinate_descent_gram(\n",
      "D:\\Yazilim\\Yapay Zeka\\Machine Learning\\venv\\lib\\site-packages\\sklearn\\linear_model\\_coordinate_descent.py:617: ConvergenceWarning: Objective did not converge. You might want to increase the number of iterations. Duality gap: 7379.35367212072, tolerance: 3241.4244490642727\n",
      "  model = cd_fast.enet_coordinate_descent_gram(\n",
      "D:\\Yazilim\\Yapay Zeka\\Machine Learning\\venv\\lib\\site-packages\\sklearn\\linear_model\\_coordinate_descent.py:617: ConvergenceWarning: Objective did not converge. You might want to increase the number of iterations. Duality gap: 403437.8339868374, tolerance: 3241.4244490642727\n",
      "  model = cd_fast.enet_coordinate_descent_gram(\n",
      "D:\\Yazilim\\Yapay Zeka\\Machine Learning\\venv\\lib\\site-packages\\sklearn\\linear_model\\_coordinate_descent.py:617: ConvergenceWarning: Objective did not converge. You might want to increase the number of iterations. Duality gap: 830826.1618280597, tolerance: 3241.4244490642727\n",
      "  model = cd_fast.enet_coordinate_descent_gram(\n",
      "D:\\Yazilim\\Yapay Zeka\\Machine Learning\\venv\\lib\\site-packages\\sklearn\\linear_model\\_coordinate_descent.py:617: ConvergenceWarning: Objective did not converge. You might want to increase the number of iterations. Duality gap: 130519.53909211047, tolerance: 3241.4244490642727\n",
      "  model = cd_fast.enet_coordinate_descent_gram(\n",
      "D:\\Yazilim\\Yapay Zeka\\Machine Learning\\venv\\lib\\site-packages\\sklearn\\linear_model\\_coordinate_descent.py:617: ConvergenceWarning: Objective did not converge. You might want to increase the number of iterations. Duality gap: 16208.63350196369, tolerance: 3241.4244490642727\n",
      "  model = cd_fast.enet_coordinate_descent_gram(\n",
      "D:\\Yazilim\\Yapay Zeka\\Machine Learning\\venv\\lib\\site-packages\\sklearn\\linear_model\\_coordinate_descent.py:617: ConvergenceWarning: Objective did not converge. You might want to increase the number of iterations. Duality gap: 26112.428739650175, tolerance: 3241.4244490642727\n",
      "  model = cd_fast.enet_coordinate_descent_gram(\n",
      "D:\\Yazilim\\Yapay Zeka\\Machine Learning\\venv\\lib\\site-packages\\sklearn\\linear_model\\_coordinate_descent.py:617: ConvergenceWarning: Objective did not converge. You might want to increase the number of iterations. Duality gap: 3770.5527971200645, tolerance: 3241.4244490642727\n",
      "  model = cd_fast.enet_coordinate_descent_gram(\n",
      "D:\\Yazilim\\Yapay Zeka\\Machine Learning\\venv\\lib\\site-packages\\sklearn\\linear_model\\_coordinate_descent.py:617: ConvergenceWarning: Objective did not converge. You might want to increase the number of iterations. Duality gap: 303635.40618614666, tolerance: 3241.4244490642727\n",
      "  model = cd_fast.enet_coordinate_descent_gram(\n",
      "D:\\Yazilim\\Yapay Zeka\\Machine Learning\\venv\\lib\\site-packages\\sklearn\\linear_model\\_coordinate_descent.py:617: ConvergenceWarning: Objective did not converge. You might want to increase the number of iterations. Duality gap: 1003274.7445102418, tolerance: 3241.4244490642727\n",
      "  model = cd_fast.enet_coordinate_descent_gram(\n",
      "D:\\Yazilim\\Yapay Zeka\\Machine Learning\\venv\\lib\\site-packages\\sklearn\\linear_model\\_coordinate_descent.py:617: ConvergenceWarning: Objective did not converge. You might want to increase the number of iterations. Duality gap: 4450942.482181504, tolerance: 3241.4244490642727\n",
      "  model = cd_fast.enet_coordinate_descent_gram(\n",
      "D:\\Yazilim\\Yapay Zeka\\Machine Learning\\venv\\lib\\site-packages\\sklearn\\linear_model\\_coordinate_descent.py:617: ConvergenceWarning: Objective did not converge. You might want to increase the number of iterations. Duality gap: 5076765.911616469, tolerance: 3241.4244490642727\n",
      "  model = cd_fast.enet_coordinate_descent_gram(\n",
      "D:\\Yazilim\\Yapay Zeka\\Machine Learning\\venv\\lib\\site-packages\\sklearn\\linear_model\\_coordinate_descent.py:617: ConvergenceWarning: Objective did not converge. You might want to increase the number of iterations. Duality gap: 5391765.48816097, tolerance: 3241.4244490642727\n",
      "  model = cd_fast.enet_coordinate_descent_gram(\n",
      "D:\\Yazilim\\Yapay Zeka\\Machine Learning\\venv\\lib\\site-packages\\sklearn\\linear_model\\_coordinate_descent.py:617: ConvergenceWarning: Objective did not converge. You might want to increase the number of iterations. Duality gap: 5573248.07992035, tolerance: 3241.4244490642727\n",
      "  model = cd_fast.enet_coordinate_descent_gram(\n",
      "D:\\Yazilim\\Yapay Zeka\\Machine Learning\\venv\\lib\\site-packages\\sklearn\\linear_model\\_coordinate_descent.py:617: ConvergenceWarning: Objective did not converge. You might want to increase the number of iterations. Duality gap: 5681629.329950651, tolerance: 3241.4244490642727\n",
      "  model = cd_fast.enet_coordinate_descent_gram(\n",
      "D:\\Yazilim\\Yapay Zeka\\Machine Learning\\venv\\lib\\site-packages\\sklearn\\linear_model\\_coordinate_descent.py:617: ConvergenceWarning: Objective did not converge. You might want to increase the number of iterations. Duality gap: 5747782.476440631, tolerance: 3241.4244490642727\n",
      "  model = cd_fast.enet_coordinate_descent_gram(\n",
      "D:\\Yazilim\\Yapay Zeka\\Machine Learning\\venv\\lib\\site-packages\\sklearn\\linear_model\\_coordinate_descent.py:617: ConvergenceWarning: Objective did not converge. You might want to increase the number of iterations. Duality gap: 5789065.552934563, tolerance: 3241.4244490642727\n",
      "  model = cd_fast.enet_coordinate_descent_gram(\n",
      "D:\\Yazilim\\Yapay Zeka\\Machine Learning\\venv\\lib\\site-packages\\sklearn\\linear_model\\_coordinate_descent.py:617: ConvergenceWarning: Objective did not converge. You might want to increase the number of iterations. Duality gap: 5815540.98094641, tolerance: 3241.4244490642727\n",
      "  model = cd_fast.enet_coordinate_descent_gram(\n",
      "D:\\Yazilim\\Yapay Zeka\\Machine Learning\\venv\\lib\\site-packages\\sklearn\\linear_model\\_coordinate_descent.py:617: ConvergenceWarning: Objective did not converge. You might want to increase the number of iterations. Duality gap: 5833100.855957737, tolerance: 3241.4244490642727\n",
      "  model = cd_fast.enet_coordinate_descent_gram(\n",
      "D:\\Yazilim\\Yapay Zeka\\Machine Learning\\venv\\lib\\site-packages\\sklearn\\linear_model\\_coordinate_descent.py:617: ConvergenceWarning: Objective did not converge. You might want to increase the number of iterations. Duality gap: 5845191.968559298, tolerance: 3241.4244490642727\n",
      "  model = cd_fast.enet_coordinate_descent_gram(\n",
      "D:\\Yazilim\\Yapay Zeka\\Machine Learning\\venv\\lib\\site-packages\\sklearn\\linear_model\\_coordinate_descent.py:617: ConvergenceWarning: Objective did not converge. You might want to increase the number of iterations. Duality gap: 5853820.20595223, tolerance: 3241.4244490642727\n",
      "  model = cd_fast.enet_coordinate_descent_gram(\n",
      "D:\\Yazilim\\Yapay Zeka\\Machine Learning\\venv\\lib\\site-packages\\sklearn\\linear_model\\_coordinate_descent.py:617: ConvergenceWarning: Objective did not converge. You might want to increase the number of iterations. Duality gap: 5860154.834946028, tolerance: 3241.4244490642727\n",
      "  model = cd_fast.enet_coordinate_descent_gram(\n",
      "D:\\Yazilim\\Yapay Zeka\\Machine Learning\\venv\\lib\\site-packages\\sklearn\\linear_model\\_coordinate_descent.py:617: ConvergenceWarning: Objective did not converge. You might want to increase the number of iterations. Duality gap: 5864893.009428433, tolerance: 3241.4244490642727\n",
      "  model = cd_fast.enet_coordinate_descent_gram(\n",
      "D:\\Yazilim\\Yapay Zeka\\Machine Learning\\venv\\lib\\site-packages\\sklearn\\linear_model\\_coordinate_descent.py:617: ConvergenceWarning: Objective did not converge. You might want to increase the number of iterations. Duality gap: 5868472.143223203, tolerance: 3241.4244490642727\n",
      "  model = cd_fast.enet_coordinate_descent_gram(\n",
      "D:\\Yazilim\\Yapay Zeka\\Machine Learning\\venv\\lib\\site-packages\\sklearn\\linear_model\\_coordinate_descent.py:617: ConvergenceWarning: Objective did not converge. You might want to increase the number of iterations. Duality gap: 5867746.131409608, tolerance: 3241.4244490642727\n",
      "  model = cd_fast.enet_coordinate_descent_gram(\n",
      "D:\\Yazilim\\Yapay Zeka\\Machine Learning\\venv\\lib\\site-packages\\sklearn\\linear_model\\_coordinate_descent.py:617: ConvergenceWarning: Objective did not converge. You might want to increase the number of iterations. Duality gap: 5873611.935416159, tolerance: 3241.4244490642727\n",
      "  model = cd_fast.enet_coordinate_descent_gram(\n",
      "D:\\Yazilim\\Yapay Zeka\\Machine Learning\\venv\\lib\\site-packages\\sklearn\\linear_model\\_coordinate_descent.py:617: ConvergenceWarning: Objective did not converge. You might want to increase the number of iterations. Duality gap: 5875662.91892384, tolerance: 3241.4244490642727\n",
      "  model = cd_fast.enet_coordinate_descent_gram(\n",
      "D:\\Yazilim\\Yapay Zeka\\Machine Learning\\venv\\lib\\site-packages\\sklearn\\linear_model\\_coordinate_descent.py:617: ConvergenceWarning: Objective did not converge. You might want to increase the number of iterations. Duality gap: 5876891.765166918, tolerance: 3241.4244490642727\n",
      "  model = cd_fast.enet_coordinate_descent_gram(\n",
      "D:\\Yazilim\\Yapay Zeka\\Machine Learning\\venv\\lib\\site-packages\\sklearn\\linear_model\\_coordinate_descent.py:617: ConvergenceWarning: Objective did not converge. You might want to increase the number of iterations. Duality gap: 5877773.730528624, tolerance: 3241.4244490642727\n",
      "  model = cd_fast.enet_coordinate_descent_gram(\n",
      "D:\\Yazilim\\Yapay Zeka\\Machine Learning\\venv\\lib\\site-packages\\sklearn\\linear_model\\_coordinate_descent.py:617: ConvergenceWarning: Objective did not converge. You might want to increase the number of iterations. Duality gap: 5068.215614767745, tolerance: 3617.3137888671126\n",
      "  model = cd_fast.enet_coordinate_descent_gram(\n",
      "D:\\Yazilim\\Yapay Zeka\\Machine Learning\\venv\\lib\\site-packages\\sklearn\\linear_model\\_coordinate_descent.py:617: ConvergenceWarning: Objective did not converge. You might want to increase the number of iterations. Duality gap: 204999.4058735147, tolerance: 3617.3137888671126\n",
      "  model = cd_fast.enet_coordinate_descent_gram(\n",
      "D:\\Yazilim\\Yapay Zeka\\Machine Learning\\venv\\lib\\site-packages\\sklearn\\linear_model\\_coordinate_descent.py:617: ConvergenceWarning: Objective did not converge. You might want to increase the number of iterations. Duality gap: 788560.4631663896, tolerance: 3617.3137888671126\n",
      "  model = cd_fast.enet_coordinate_descent_gram(\n",
      "D:\\Yazilim\\Yapay Zeka\\Machine Learning\\venv\\lib\\site-packages\\sklearn\\linear_model\\_coordinate_descent.py:617: ConvergenceWarning: Objective did not converge. You might want to increase the number of iterations. Duality gap: 2293668.9617927596, tolerance: 3617.3137888671126\n",
      "  model = cd_fast.enet_coordinate_descent_gram(\n",
      "D:\\Yazilim\\Yapay Zeka\\Machine Learning\\venv\\lib\\site-packages\\sklearn\\linear_model\\_coordinate_descent.py:617: ConvergenceWarning: Objective did not converge. You might want to increase the number of iterations. Duality gap: 3430169.558952841, tolerance: 3617.3137888671126\n",
      "  model = cd_fast.enet_coordinate_descent_gram(\n",
      "D:\\Yazilim\\Yapay Zeka\\Machine Learning\\venv\\lib\\site-packages\\sklearn\\linear_model\\_coordinate_descent.py:617: ConvergenceWarning: Objective did not converge. You might want to increase the number of iterations. Duality gap: 4266665.6821657, tolerance: 3617.3137888671126\n",
      "  model = cd_fast.enet_coordinate_descent_gram(\n",
      "D:\\Yazilim\\Yapay Zeka\\Machine Learning\\venv\\lib\\site-packages\\sklearn\\linear_model\\_coordinate_descent.py:617: ConvergenceWarning: Objective did not converge. You might want to increase the number of iterations. Duality gap: 4870647.823053745, tolerance: 3617.3137888671126\n",
      "  model = cd_fast.enet_coordinate_descent_gram(\n",
      "D:\\Yazilim\\Yapay Zeka\\Machine Learning\\venv\\lib\\site-packages\\sklearn\\linear_model\\_coordinate_descent.py:617: ConvergenceWarning: Objective did not converge. You might want to increase the number of iterations. Duality gap: 5297167.789669221, tolerance: 3617.3137888671126\n",
      "  model = cd_fast.enet_coordinate_descent_gram(\n",
      "D:\\Yazilim\\Yapay Zeka\\Machine Learning\\venv\\lib\\site-packages\\sklearn\\linear_model\\_coordinate_descent.py:617: ConvergenceWarning: Objective did not converge. You might want to increase the number of iterations. Duality gap: 5584497.027354645, tolerance: 3617.3137888671126\n",
      "  model = cd_fast.enet_coordinate_descent_gram(\n",
      "D:\\Yazilim\\Yapay Zeka\\Machine Learning\\venv\\lib\\site-packages\\sklearn\\linear_model\\_coordinate_descent.py:617: ConvergenceWarning: Objective did not converge. You might want to increase the number of iterations. Duality gap: 5754281.62691519, tolerance: 3617.3137888671126\n",
      "  model = cd_fast.enet_coordinate_descent_gram(\n",
      "D:\\Yazilim\\Yapay Zeka\\Machine Learning\\venv\\lib\\site-packages\\sklearn\\linear_model\\_coordinate_descent.py:617: ConvergenceWarning: Objective did not converge. You might want to increase the number of iterations. Duality gap: 5809358.871050149, tolerance: 3617.3137888671126\n",
      "  model = cd_fast.enet_coordinate_descent_gram(\n",
      "D:\\Yazilim\\Yapay Zeka\\Machine Learning\\venv\\lib\\site-packages\\sklearn\\linear_model\\_coordinate_descent.py:617: ConvergenceWarning: Objective did not converge. You might want to increase the number of iterations. Duality gap: 5722512.074790044, tolerance: 3617.3137888671126\n",
      "  model = cd_fast.enet_coordinate_descent_gram(\n",
      "D:\\Yazilim\\Yapay Zeka\\Machine Learning\\venv\\lib\\site-packages\\sklearn\\linear_model\\_coordinate_descent.py:617: ConvergenceWarning: Objective did not converge. You might want to increase the number of iterations. Duality gap: 5393143.789822879, tolerance: 3617.3137888671126\n",
      "  model = cd_fast.enet_coordinate_descent_gram(\n",
      "D:\\Yazilim\\Yapay Zeka\\Machine Learning\\venv\\lib\\site-packages\\sklearn\\linear_model\\_coordinate_descent.py:617: ConvergenceWarning: Objective did not converge. You might want to increase the number of iterations. Duality gap: 4434425.351218689, tolerance: 3617.3137888671126\n",
      "  model = cd_fast.enet_coordinate_descent_gram(\n",
      "D:\\Yazilim\\Yapay Zeka\\Machine Learning\\venv\\lib\\site-packages\\sklearn\\linear_model\\_coordinate_descent.py:617: ConvergenceWarning: Objective did not converge. You might want to increase the number of iterations. Duality gap: 484441.1407072209, tolerance: 3617.3137888671126\n",
      "  model = cd_fast.enet_coordinate_descent_gram(\n",
      "D:\\Yazilim\\Yapay Zeka\\Machine Learning\\venv\\lib\\site-packages\\sklearn\\linear_model\\_coordinate_descent.py:617: ConvergenceWarning: Objective did not converge. You might want to increase the number of iterations. Duality gap: 2783414.568117922, tolerance: 3617.3137888671126\n",
      "  model = cd_fast.enet_coordinate_descent_gram(\n",
      "D:\\Yazilim\\Yapay Zeka\\Machine Learning\\venv\\lib\\site-packages\\sklearn\\linear_model\\_coordinate_descent.py:617: ConvergenceWarning: Objective did not converge. You might want to increase the number of iterations. Duality gap: 5975136.862489874, tolerance: 3617.3137888671126\n",
      "  model = cd_fast.enet_coordinate_descent_gram(\n",
      "D:\\Yazilim\\Yapay Zeka\\Machine Learning\\venv\\lib\\site-packages\\sklearn\\linear_model\\_coordinate_descent.py:617: ConvergenceWarning: Objective did not converge. You might want to increase the number of iterations. Duality gap: 6820441.678873367, tolerance: 3617.3137888671126\n",
      "  model = cd_fast.enet_coordinate_descent_gram(\n",
      "D:\\Yazilim\\Yapay Zeka\\Machine Learning\\venv\\lib\\site-packages\\sklearn\\linear_model\\_coordinate_descent.py:617: ConvergenceWarning: Objective did not converge. You might want to increase the number of iterations. Duality gap: 7120638.71698082, tolerance: 3617.3137888671126\n",
      "  model = cd_fast.enet_coordinate_descent_gram(\n",
      "D:\\Yazilim\\Yapay Zeka\\Machine Learning\\venv\\lib\\site-packages\\sklearn\\linear_model\\_coordinate_descent.py:617: ConvergenceWarning: Objective did not converge. You might want to increase the number of iterations. Duality gap: 7333370.77601399, tolerance: 3617.3137888671126\n",
      "  model = cd_fast.enet_coordinate_descent_gram(\n",
      "D:\\Yazilim\\Yapay Zeka\\Machine Learning\\venv\\lib\\site-packages\\sklearn\\linear_model\\_coordinate_descent.py:617: ConvergenceWarning: Objective did not converge. You might want to increase the number of iterations. Duality gap: 7414553.81634267, tolerance: 3617.3137888671126\n",
      "  model = cd_fast.enet_coordinate_descent_gram(\n",
      "D:\\Yazilim\\Yapay Zeka\\Machine Learning\\venv\\lib\\site-packages\\sklearn\\linear_model\\_coordinate_descent.py:617: ConvergenceWarning: Objective did not converge. You might want to increase the number of iterations. Duality gap: 7443957.252497624, tolerance: 3617.3137888671126\n",
      "  model = cd_fast.enet_coordinate_descent_gram(\n",
      "D:\\Yazilim\\Yapay Zeka\\Machine Learning\\venv\\lib\\site-packages\\sklearn\\linear_model\\_coordinate_descent.py:617: ConvergenceWarning: Objective did not converge. You might want to increase the number of iterations. Duality gap: 7439651.71198374, tolerance: 3617.3137888671126\n",
      "  model = cd_fast.enet_coordinate_descent_gram(\n",
      "D:\\Yazilim\\Yapay Zeka\\Machine Learning\\venv\\lib\\site-packages\\sklearn\\linear_model\\_coordinate_descent.py:617: ConvergenceWarning: Objective did not converge. You might want to increase the number of iterations. Duality gap: 7404015.0897740815, tolerance: 3617.3137888671126\n",
      "  model = cd_fast.enet_coordinate_descent_gram(\n",
      "D:\\Yazilim\\Yapay Zeka\\Machine Learning\\venv\\lib\\site-packages\\sklearn\\linear_model\\_coordinate_descent.py:617: ConvergenceWarning: Objective did not converge. You might want to increase the number of iterations. Duality gap: 7326382.3295305595, tolerance: 3617.3137888671126\n",
      "  model = cd_fast.enet_coordinate_descent_gram(\n",
      "D:\\Yazilim\\Yapay Zeka\\Machine Learning\\venv\\lib\\site-packages\\sklearn\\linear_model\\_coordinate_descent.py:617: ConvergenceWarning: Objective did not converge. You might want to increase the number of iterations. Duality gap: 7167831.003812601, tolerance: 3617.3137888671126\n",
      "  model = cd_fast.enet_coordinate_descent_gram(\n",
      "D:\\Yazilim\\Yapay Zeka\\Machine Learning\\venv\\lib\\site-packages\\sklearn\\linear_model\\_coordinate_descent.py:617: ConvergenceWarning: Objective did not converge. You might want to increase the number of iterations. Duality gap: 6772597.143750017, tolerance: 3617.3137888671126\n",
      "  model = cd_fast.enet_coordinate_descent_gram(\n",
      "D:\\Yazilim\\Yapay Zeka\\Machine Learning\\venv\\lib\\site-packages\\sklearn\\linear_model\\_coordinate_descent.py:617: ConvergenceWarning: Objective did not converge. You might want to increase the number of iterations. Duality gap: 4619307.072433632, tolerance: 3617.3137888671126\n",
      "  model = cd_fast.enet_coordinate_descent_gram(\n",
      "D:\\Yazilim\\Yapay Zeka\\Machine Learning\\venv\\lib\\site-packages\\sklearn\\linear_model\\_coordinate_descent.py:617: ConvergenceWarning: Objective did not converge. You might want to increase the number of iterations. Duality gap: 5534121.361563012, tolerance: 3617.3137888671126\n",
      "  model = cd_fast.enet_coordinate_descent_gram(\n",
      "D:\\Yazilim\\Yapay Zeka\\Machine Learning\\venv\\lib\\site-packages\\sklearn\\linear_model\\_coordinate_descent.py:617: ConvergenceWarning: Objective did not converge. You might want to increase the number of iterations. Duality gap: 6869433.398574148, tolerance: 3617.3137888671126\n",
      "  model = cd_fast.enet_coordinate_descent_gram(\n",
      "D:\\Yazilim\\Yapay Zeka\\Machine Learning\\venv\\lib\\site-packages\\sklearn\\linear_model\\_coordinate_descent.py:617: ConvergenceWarning: Objective did not converge. You might want to increase the number of iterations. Duality gap: 7182664.594491441, tolerance: 3617.3137888671126\n",
      "  model = cd_fast.enet_coordinate_descent_gram(\n",
      "D:\\Yazilim\\Yapay Zeka\\Machine Learning\\venv\\lib\\site-packages\\sklearn\\linear_model\\_coordinate_descent.py:617: ConvergenceWarning: Objective did not converge. You might want to increase the number of iterations. Duality gap: 7315966.537041041, tolerance: 3617.3137888671126\n",
      "  model = cd_fast.enet_coordinate_descent_gram(\n",
      "D:\\Yazilim\\Yapay Zeka\\Machine Learning\\venv\\lib\\site-packages\\sklearn\\linear_model\\_coordinate_descent.py:617: ConvergenceWarning: Objective did not converge. You might want to increase the number of iterations. Duality gap: 7386668.739493899, tolerance: 3617.3137888671126\n",
      "  model = cd_fast.enet_coordinate_descent_gram(\n",
      "D:\\Yazilim\\Yapay Zeka\\Machine Learning\\venv\\lib\\site-packages\\sklearn\\linear_model\\_coordinate_descent.py:617: ConvergenceWarning: Objective did not converge. You might want to increase the number of iterations. Duality gap: 11511.098304398358, tolerance: 3214.8159286012715\n",
      "  model = cd_fast.enet_coordinate_descent_gram(\n",
      "D:\\Yazilim\\Yapay Zeka\\Machine Learning\\venv\\lib\\site-packages\\sklearn\\linear_model\\_coordinate_descent.py:617: ConvergenceWarning: Objective did not converge. You might want to increase the number of iterations. Duality gap: 81379.24525928125, tolerance: 3214.8159286012715\n",
      "  model = cd_fast.enet_coordinate_descent_gram(\n",
      "D:\\Yazilim\\Yapay Zeka\\Machine Learning\\venv\\lib\\site-packages\\sklearn\\linear_model\\_coordinate_descent.py:617: ConvergenceWarning: Objective did not converge. You might want to increase the number of iterations. Duality gap: 241727.766413711, tolerance: 3214.8159286012715\n",
      "  model = cd_fast.enet_coordinate_descent_gram(\n",
      "D:\\Yazilim\\Yapay Zeka\\Machine Learning\\venv\\lib\\site-packages\\sklearn\\linear_model\\_coordinate_descent.py:617: ConvergenceWarning: Objective did not converge. You might want to increase the number of iterations. Duality gap: 680957.620672185, tolerance: 3214.8159286012715\n",
      "  model = cd_fast.enet_coordinate_descent_gram(\n",
      "D:\\Yazilim\\Yapay Zeka\\Machine Learning\\venv\\lib\\site-packages\\sklearn\\linear_model\\_coordinate_descent.py:617: ConvergenceWarning: Objective did not converge. You might want to increase the number of iterations. Duality gap: 1638971.1921287691, tolerance: 3214.8159286012715\n",
      "  model = cd_fast.enet_coordinate_descent_gram(\n",
      "D:\\Yazilim\\Yapay Zeka\\Machine Learning\\venv\\lib\\site-packages\\sklearn\\linear_model\\_coordinate_descent.py:617: ConvergenceWarning: Objective did not converge. You might want to increase the number of iterations. Duality gap: 2297235.3931308445, tolerance: 3214.8159286012715\n",
      "  model = cd_fast.enet_coordinate_descent_gram(\n",
      "D:\\Yazilim\\Yapay Zeka\\Machine Learning\\venv\\lib\\site-packages\\sklearn\\linear_model\\_coordinate_descent.py:617: ConvergenceWarning: Objective did not converge. You might want to increase the number of iterations. Duality gap: 2818353.6094251256, tolerance: 3214.8159286012715\n",
      "  model = cd_fast.enet_coordinate_descent_gram(\n",
      "D:\\Yazilim\\Yapay Zeka\\Machine Learning\\venv\\lib\\site-packages\\sklearn\\linear_model\\_coordinate_descent.py:617: ConvergenceWarning: Objective did not converge. You might want to increase the number of iterations. Duality gap: 3097616.6247376176, tolerance: 3214.8159286012715\n",
      "  model = cd_fast.enet_coordinate_descent_gram(\n",
      "D:\\Yazilim\\Yapay Zeka\\Machine Learning\\venv\\lib\\site-packages\\sklearn\\linear_model\\_coordinate_descent.py:617: ConvergenceWarning: Objective did not converge. You might want to increase the number of iterations. Duality gap: 3184180.183893542, tolerance: 3214.8159286012715\n",
      "  model = cd_fast.enet_coordinate_descent_gram(\n",
      "D:\\Yazilim\\Yapay Zeka\\Machine Learning\\venv\\lib\\site-packages\\sklearn\\linear_model\\_coordinate_descent.py:617: ConvergenceWarning: Objective did not converge. You might want to increase the number of iterations. Duality gap: 3031082.675248353, tolerance: 3214.8159286012715\n",
      "  model = cd_fast.enet_coordinate_descent_gram(\n",
      "D:\\Yazilim\\Yapay Zeka\\Machine Learning\\venv\\lib\\site-packages\\sklearn\\linear_model\\_coordinate_descent.py:617: ConvergenceWarning: Objective did not converge. You might want to increase the number of iterations. Duality gap: 2463821.2116555674, tolerance: 3214.8159286012715\n",
      "  model = cd_fast.enet_coordinate_descent_gram(\n",
      "D:\\Yazilim\\Yapay Zeka\\Machine Learning\\venv\\lib\\site-packages\\sklearn\\linear_model\\_coordinate_descent.py:617: ConvergenceWarning: Objective did not converge. You might want to increase the number of iterations. Duality gap: 917192.3124833573, tolerance: 3214.8159286012715\n",
      "  model = cd_fast.enet_coordinate_descent_gram(\n",
      "D:\\Yazilim\\Yapay Zeka\\Machine Learning\\venv\\lib\\site-packages\\sklearn\\linear_model\\_coordinate_descent.py:617: ConvergenceWarning: Objective did not converge. You might want to increase the number of iterations. Duality gap: 132457.00678178482, tolerance: 3214.8159286012715\n",
      "  model = cd_fast.enet_coordinate_descent_gram(\n",
      "D:\\Yazilim\\Yapay Zeka\\Machine Learning\\venv\\lib\\site-packages\\sklearn\\linear_model\\_coordinate_descent.py:617: ConvergenceWarning: Objective did not converge. You might want to increase the number of iterations. Duality gap: 1852773.1201539198, tolerance: 3214.8159286012715\n",
      "  model = cd_fast.enet_coordinate_descent_gram(\n",
      "D:\\Yazilim\\Yapay Zeka\\Machine Learning\\venv\\lib\\site-packages\\sklearn\\linear_model\\_coordinate_descent.py:617: ConvergenceWarning: Objective did not converge. You might want to increase the number of iterations. Duality gap: 4556079.466024686, tolerance: 3214.8159286012715\n",
      "  model = cd_fast.enet_coordinate_descent_gram(\n",
      "D:\\Yazilim\\Yapay Zeka\\Machine Learning\\venv\\lib\\site-packages\\sklearn\\linear_model\\_coordinate_descent.py:617: ConvergenceWarning: Objective did not converge. You might want to increase the number of iterations. Duality gap: 5576668.585695935, tolerance: 3214.8159286012715\n",
      "  model = cd_fast.enet_coordinate_descent_gram(\n",
      "D:\\Yazilim\\Yapay Zeka\\Machine Learning\\venv\\lib\\site-packages\\sklearn\\linear_model\\_coordinate_descent.py:617: ConvergenceWarning: Objective did not converge. You might want to increase the number of iterations. Duality gap: 6060811.212990253, tolerance: 3214.8159286012715\n",
      "  model = cd_fast.enet_coordinate_descent_gram(\n",
      "D:\\Yazilim\\Yapay Zeka\\Machine Learning\\venv\\lib\\site-packages\\sklearn\\linear_model\\_coordinate_descent.py:617: ConvergenceWarning: Objective did not converge. You might want to increase the number of iterations. Duality gap: 6323270.553815186, tolerance: 3214.8159286012715\n",
      "  model = cd_fast.enet_coordinate_descent_gram(\n",
      "D:\\Yazilim\\Yapay Zeka\\Machine Learning\\venv\\lib\\site-packages\\sklearn\\linear_model\\_coordinate_descent.py:617: ConvergenceWarning: Objective did not converge. You might want to increase the number of iterations. Duality gap: 6477932.480219516, tolerance: 3214.8159286012715\n",
      "  model = cd_fast.enet_coordinate_descent_gram(\n",
      "D:\\Yazilim\\Yapay Zeka\\Machine Learning\\venv\\lib\\site-packages\\sklearn\\linear_model\\_coordinate_descent.py:617: ConvergenceWarning: Objective did not converge. You might want to increase the number of iterations. Duality gap: 6574695.784360129, tolerance: 3214.8159286012715\n",
      "  model = cd_fast.enet_coordinate_descent_gram(\n",
      "D:\\Yazilim\\Yapay Zeka\\Machine Learning\\venv\\lib\\site-packages\\sklearn\\linear_model\\_coordinate_descent.py:617: ConvergenceWarning: Objective did not converge. You might want to increase the number of iterations. Duality gap: 6624598.960432315, tolerance: 3214.8159286012715\n",
      "  model = cd_fast.enet_coordinate_descent_gram(\n",
      "D:\\Yazilim\\Yapay Zeka\\Machine Learning\\venv\\lib\\site-packages\\sklearn\\linear_model\\_coordinate_descent.py:617: ConvergenceWarning: Objective did not converge. You might want to increase the number of iterations. Duality gap: 6682253.440455805, tolerance: 3214.8159286012715\n",
      "  model = cd_fast.enet_coordinate_descent_gram(\n",
      "D:\\Yazilim\\Yapay Zeka\\Machine Learning\\venv\\lib\\site-packages\\sklearn\\linear_model\\_coordinate_descent.py:617: ConvergenceWarning: Objective did not converge. You might want to increase the number of iterations. Duality gap: 6713509.80375363, tolerance: 3214.8159286012715\n",
      "  model = cd_fast.enet_coordinate_descent_gram(\n",
      "D:\\Yazilim\\Yapay Zeka\\Machine Learning\\venv\\lib\\site-packages\\sklearn\\linear_model\\_coordinate_descent.py:617: ConvergenceWarning: Objective did not converge. You might want to increase the number of iterations. Duality gap: 6735111.156667861, tolerance: 3214.8159286012715\n",
      "  model = cd_fast.enet_coordinate_descent_gram(\n",
      "D:\\Yazilim\\Yapay Zeka\\Machine Learning\\venv\\lib\\site-packages\\sklearn\\linear_model\\_coordinate_descent.py:617: ConvergenceWarning: Objective did not converge. You might want to increase the number of iterations. Duality gap: 6750665.36942745, tolerance: 3214.8159286012715\n",
      "  model = cd_fast.enet_coordinate_descent_gram(\n",
      "D:\\Yazilim\\Yapay Zeka\\Machine Learning\\venv\\lib\\site-packages\\sklearn\\linear_model\\_coordinate_descent.py:617: ConvergenceWarning: Objective did not converge. You might want to increase the number of iterations. Duality gap: 6761964.209297756, tolerance: 3214.8159286012715\n",
      "  model = cd_fast.enet_coordinate_descent_gram(\n",
      "D:\\Yazilim\\Yapay Zeka\\Machine Learning\\venv\\lib\\site-packages\\sklearn\\linear_model\\_coordinate_descent.py:617: ConvergenceWarning: Objective did not converge. You might want to increase the number of iterations. Duality gap: 6770192.132525524, tolerance: 3214.8159286012715\n",
      "  model = cd_fast.enet_coordinate_descent_gram(\n",
      "D:\\Yazilim\\Yapay Zeka\\Machine Learning\\venv\\lib\\site-packages\\sklearn\\linear_model\\_coordinate_descent.py:617: ConvergenceWarning: Objective did not converge. You might want to increase the number of iterations. Duality gap: 6776191.462781597, tolerance: 3214.8159286012715\n",
      "  model = cd_fast.enet_coordinate_descent_gram(\n",
      "D:\\Yazilim\\Yapay Zeka\\Machine Learning\\venv\\lib\\site-packages\\sklearn\\linear_model\\_coordinate_descent.py:617: ConvergenceWarning: Objective did not converge. You might want to increase the number of iterations. Duality gap: 6780573.4821924865, tolerance: 3214.8159286012715\n",
      "  model = cd_fast.enet_coordinate_descent_gram(\n",
      "D:\\Yazilim\\Yapay Zeka\\Machine Learning\\venv\\lib\\site-packages\\sklearn\\linear_model\\_coordinate_descent.py:617: ConvergenceWarning: Objective did not converge. You might want to increase the number of iterations. Duality gap: 6783782.767766668, tolerance: 3214.8159286012715\n",
      "  model = cd_fast.enet_coordinate_descent_gram(\n",
      "D:\\Yazilim\\Yapay Zeka\\Machine Learning\\venv\\lib\\site-packages\\sklearn\\linear_model\\_coordinate_descent.py:617: ConvergenceWarning: Objective did not converge. You might want to increase the number of iterations. Duality gap: 6786141.361628747, tolerance: 3214.8159286012715\n",
      "  model = cd_fast.enet_coordinate_descent_gram(\n",
      "D:\\Yazilim\\Yapay Zeka\\Machine Learning\\venv\\lib\\site-packages\\sklearn\\linear_model\\_coordinate_descent.py:617: ConvergenceWarning: Objective did not converge. You might want to increase the number of iterations. Duality gap: 6787881.556568525, tolerance: 3214.8159286012715\n",
      "  model = cd_fast.enet_coordinate_descent_gram(\n",
      "D:\\Yazilim\\Yapay Zeka\\Machine Learning\\venv\\lib\\site-packages\\sklearn\\linear_model\\_coordinate_descent.py:617: ConvergenceWarning: Objective did not converge. You might want to increase the number of iterations. Duality gap: 20504.16991220787, tolerance: 3528.275205770337\n",
      "  model = cd_fast.enet_coordinate_descent_gram(\n",
      "D:\\Yazilim\\Yapay Zeka\\Machine Learning\\venv\\lib\\site-packages\\sklearn\\linear_model\\_coordinate_descent.py:617: ConvergenceWarning: Objective did not converge. You might want to increase the number of iterations. Duality gap: 71606.786758136, tolerance: 3528.275205770337\n",
      "  model = cd_fast.enet_coordinate_descent_gram(\n",
      "D:\\Yazilim\\Yapay Zeka\\Machine Learning\\venv\\lib\\site-packages\\sklearn\\linear_model\\_coordinate_descent.py:617: ConvergenceWarning: Objective did not converge. You might want to increase the number of iterations. Duality gap: 122229.86735357717, tolerance: 3528.275205770337\n",
      "  model = cd_fast.enet_coordinate_descent_gram(\n",
      "D:\\Yazilim\\Yapay Zeka\\Machine Learning\\venv\\lib\\site-packages\\sklearn\\linear_model\\_coordinate_descent.py:617: ConvergenceWarning: Objective did not converge. You might want to increase the number of iterations. Duality gap: 182682.98632922024, tolerance: 3528.275205770337\n",
      "  model = cd_fast.enet_coordinate_descent_gram(\n",
      "D:\\Yazilim\\Yapay Zeka\\Machine Learning\\venv\\lib\\site-packages\\sklearn\\linear_model\\_coordinate_descent.py:617: ConvergenceWarning: Objective did not converge. You might want to increase the number of iterations. Duality gap: 249424.51344562136, tolerance: 3528.275205770337\n",
      "  model = cd_fast.enet_coordinate_descent_gram(\n",
      "D:\\Yazilim\\Yapay Zeka\\Machine Learning\\venv\\lib\\site-packages\\sklearn\\linear_model\\_coordinate_descent.py:617: ConvergenceWarning: Objective did not converge. You might want to increase the number of iterations. Duality gap: 1123238.608180005, tolerance: 3528.275205770337\n",
      "  model = cd_fast.enet_coordinate_descent_gram(\n",
      "D:\\Yazilim\\Yapay Zeka\\Machine Learning\\venv\\lib\\site-packages\\sklearn\\linear_model\\_coordinate_descent.py:617: ConvergenceWarning: Objective did not converge. You might want to increase the number of iterations. Duality gap: 2148501.1998703806, tolerance: 3528.275205770337\n",
      "  model = cd_fast.enet_coordinate_descent_gram(\n",
      "D:\\Yazilim\\Yapay Zeka\\Machine Learning\\venv\\lib\\site-packages\\sklearn\\linear_model\\_coordinate_descent.py:617: ConvergenceWarning: Objective did not converge. You might want to increase the number of iterations. Duality gap: 2745746.2882584007, tolerance: 3528.275205770337\n",
      "  model = cd_fast.enet_coordinate_descent_gram(\n",
      "D:\\Yazilim\\Yapay Zeka\\Machine Learning\\venv\\lib\\site-packages\\sklearn\\linear_model\\_coordinate_descent.py:617: ConvergenceWarning: Objective did not converge. You might want to increase the number of iterations. Duality gap: 3153414.021167936, tolerance: 3528.275205770337\n",
      "  model = cd_fast.enet_coordinate_descent_gram(\n",
      "D:\\Yazilim\\Yapay Zeka\\Machine Learning\\venv\\lib\\site-packages\\sklearn\\linear_model\\_coordinate_descent.py:617: ConvergenceWarning: Objective did not converge. You might want to increase the number of iterations. Duality gap: 3392561.3708975976, tolerance: 3528.275205770337\n",
      "  model = cd_fast.enet_coordinate_descent_gram(\n",
      "D:\\Yazilim\\Yapay Zeka\\Machine Learning\\venv\\lib\\site-packages\\sklearn\\linear_model\\_coordinate_descent.py:617: ConvergenceWarning: Objective did not converge. You might want to increase the number of iterations. Duality gap: 3445739.3671553684, tolerance: 3528.275205770337\n",
      "  model = cd_fast.enet_coordinate_descent_gram(\n",
      "D:\\Yazilim\\Yapay Zeka\\Machine Learning\\venv\\lib\\site-packages\\sklearn\\linear_model\\_coordinate_descent.py:617: ConvergenceWarning: Objective did not converge. You might want to increase the number of iterations. Duality gap: 3235674.1602880014, tolerance: 3528.275205770337\n",
      "  model = cd_fast.enet_coordinate_descent_gram(\n",
      "D:\\Yazilim\\Yapay Zeka\\Machine Learning\\venv\\lib\\site-packages\\sklearn\\linear_model\\_coordinate_descent.py:617: ConvergenceWarning: Objective did not converge. You might want to increase the number of iterations. Duality gap: 2517427.1404130347, tolerance: 3528.275205770337\n",
      "  model = cd_fast.enet_coordinate_descent_gram(\n",
      "D:\\Yazilim\\Yapay Zeka\\Machine Learning\\venv\\lib\\site-packages\\sklearn\\linear_model\\_coordinate_descent.py:617: ConvergenceWarning: Objective did not converge. You might want to increase the number of iterations. Duality gap: 520968.43583216704, tolerance: 3528.275205770337\n",
      "  model = cd_fast.enet_coordinate_descent_gram(\n",
      "D:\\Yazilim\\Yapay Zeka\\Machine Learning\\venv\\lib\\site-packages\\sklearn\\linear_model\\_coordinate_descent.py:617: ConvergenceWarning: Objective did not converge. You might want to increase the number of iterations. Duality gap: 56213.69455775991, tolerance: 3528.275205770337\n",
      "  model = cd_fast.enet_coordinate_descent_gram(\n",
      "D:\\Yazilim\\Yapay Zeka\\Machine Learning\\venv\\lib\\site-packages\\sklearn\\linear_model\\_coordinate_descent.py:617: ConvergenceWarning: Objective did not converge. You might want to increase the number of iterations. Duality gap: 3271147.064239408, tolerance: 3528.275205770337\n",
      "  model = cd_fast.enet_coordinate_descent_gram(\n",
      "D:\\Yazilim\\Yapay Zeka\\Machine Learning\\venv\\lib\\site-packages\\sklearn\\linear_model\\_coordinate_descent.py:617: ConvergenceWarning: Objective did not converge. You might want to increase the number of iterations. Duality gap: 5516096.03012431, tolerance: 3528.275205770337\n",
      "  model = cd_fast.enet_coordinate_descent_gram(\n",
      "D:\\Yazilim\\Yapay Zeka\\Machine Learning\\venv\\lib\\site-packages\\sklearn\\linear_model\\_coordinate_descent.py:617: ConvergenceWarning: Objective did not converge. You might want to increase the number of iterations. Duality gap: 6385036.322119163, tolerance: 3528.275205770337\n",
      "  model = cd_fast.enet_coordinate_descent_gram(\n",
      "D:\\Yazilim\\Yapay Zeka\\Machine Learning\\venv\\lib\\site-packages\\sklearn\\linear_model\\_coordinate_descent.py:617: ConvergenceWarning: Objective did not converge. You might want to increase the number of iterations. Duality gap: 6810502.567857776, tolerance: 3528.275205770337\n",
      "  model = cd_fast.enet_coordinate_descent_gram(\n",
      "D:\\Yazilim\\Yapay Zeka\\Machine Learning\\venv\\lib\\site-packages\\sklearn\\linear_model\\_coordinate_descent.py:617: ConvergenceWarning: Objective did not converge. You might want to increase the number of iterations. Duality gap: 7023285.983045571, tolerance: 3528.275205770337\n",
      "  model = cd_fast.enet_coordinate_descent_gram(\n",
      "D:\\Yazilim\\Yapay Zeka\\Machine Learning\\venv\\lib\\site-packages\\sklearn\\linear_model\\_coordinate_descent.py:617: ConvergenceWarning: Objective did not converge. You might want to increase the number of iterations. Duality gap: 7152847.162253972, tolerance: 3528.275205770337\n",
      "  model = cd_fast.enet_coordinate_descent_gram(\n",
      "D:\\Yazilim\\Yapay Zeka\\Machine Learning\\venv\\lib\\site-packages\\sklearn\\linear_model\\_coordinate_descent.py:617: ConvergenceWarning: Objective did not converge. You might want to increase the number of iterations. Duality gap: 7232464.533930671, tolerance: 3528.275205770337\n",
      "  model = cd_fast.enet_coordinate_descent_gram(\n",
      "D:\\Yazilim\\Yapay Zeka\\Machine Learning\\venv\\lib\\site-packages\\sklearn\\linear_model\\_coordinate_descent.py:617: ConvergenceWarning: Objective did not converge. You might want to increase the number of iterations. Duality gap: 7283621.304706341, tolerance: 3528.275205770337\n",
      "  model = cd_fast.enet_coordinate_descent_gram(\n",
      "D:\\Yazilim\\Yapay Zeka\\Machine Learning\\venv\\lib\\site-packages\\sklearn\\linear_model\\_coordinate_descent.py:617: ConvergenceWarning: Objective did not converge. You might want to increase the number of iterations. Duality gap: 7317942.164498401, tolerance: 3528.275205770337\n",
      "  model = cd_fast.enet_coordinate_descent_gram(\n",
      "D:\\Yazilim\\Yapay Zeka\\Machine Learning\\venv\\lib\\site-packages\\sklearn\\linear_model\\_coordinate_descent.py:617: ConvergenceWarning: Objective did not converge. You might want to increase the number of iterations. Duality gap: 7341835.157951903, tolerance: 3528.275205770337\n",
      "  model = cd_fast.enet_coordinate_descent_gram(\n",
      "D:\\Yazilim\\Yapay Zeka\\Machine Learning\\venv\\lib\\site-packages\\sklearn\\linear_model\\_coordinate_descent.py:617: ConvergenceWarning: Objective did not converge. You might want to increase the number of iterations. Duality gap: 7358938.760198396, tolerance: 3528.275205770337\n",
      "  model = cd_fast.enet_coordinate_descent_gram(\n",
      "D:\\Yazilim\\Yapay Zeka\\Machine Learning\\venv\\lib\\site-packages\\sklearn\\linear_model\\_coordinate_descent.py:617: ConvergenceWarning: Objective did not converge. You might want to increase the number of iterations. Duality gap: 7364032.721096399, tolerance: 3528.275205770337\n",
      "  model = cd_fast.enet_coordinate_descent_gram(\n",
      "D:\\Yazilim\\Yapay Zeka\\Machine Learning\\venv\\lib\\site-packages\\sklearn\\linear_model\\_coordinate_descent.py:617: ConvergenceWarning: Objective did not converge. You might want to increase the number of iterations. Duality gap: 7381303.943979546, tolerance: 3528.275205770337\n",
      "  model = cd_fast.enet_coordinate_descent_gram(\n",
      "D:\\Yazilim\\Yapay Zeka\\Machine Learning\\venv\\lib\\site-packages\\sklearn\\linear_model\\_coordinate_descent.py:617: ConvergenceWarning: Objective did not converge. You might want to increase the number of iterations. Duality gap: 7388673.043461566, tolerance: 3528.275205770337\n",
      "  model = cd_fast.enet_coordinate_descent_gram(\n",
      "D:\\Yazilim\\Yapay Zeka\\Machine Learning\\venv\\lib\\site-packages\\sklearn\\linear_model\\_coordinate_descent.py:617: ConvergenceWarning: Objective did not converge. You might want to increase the number of iterations. Duality gap: 7393671.591991103, tolerance: 3528.275205770337\n",
      "  model = cd_fast.enet_coordinate_descent_gram(\n",
      "D:\\Yazilim\\Yapay Zeka\\Machine Learning\\venv\\lib\\site-packages\\sklearn\\linear_model\\_coordinate_descent.py:617: ConvergenceWarning: Objective did not converge. You might want to increase the number of iterations. Duality gap: 7397333.992388366, tolerance: 3528.275205770337\n",
      "  model = cd_fast.enet_coordinate_descent_gram(\n",
      "D:\\Yazilim\\Yapay Zeka\\Machine Learning\\venv\\lib\\site-packages\\sklearn\\linear_model\\_coordinate_descent.py:617: ConvergenceWarning: Objective did not converge. You might want to increase the number of iterations. Duality gap: 7400049.191176243, tolerance: 3528.275205770337\n",
      "  model = cd_fast.enet_coordinate_descent_gram(\n",
      "D:\\Yazilim\\Yapay Zeka\\Machine Learning\\venv\\lib\\site-packages\\sklearn\\linear_model\\_coordinate_descent.py:617: ConvergenceWarning: Objective did not converge. You might want to increase the number of iterations. Duality gap: 7402068.964110711, tolerance: 3528.275205770337\n",
      "  model = cd_fast.enet_coordinate_descent_gram(\n",
      "D:\\Yazilim\\Yapay Zeka\\Machine Learning\\venv\\lib\\site-packages\\sklearn\\linear_model\\_coordinate_descent.py:617: ConvergenceWarning: Objective did not converge. You might want to increase the number of iterations. Duality gap: 7403575.105623482, tolerance: 3528.275205770337\n",
      "  model = cd_fast.enet_coordinate_descent_gram(\n",
      "D:\\Yazilim\\Yapay Zeka\\Machine Learning\\venv\\lib\\site-packages\\sklearn\\linear_model\\_coordinate_descent.py:617: ConvergenceWarning: Objective did not converge. You might want to increase the number of iterations. Duality gap: 33665.31172677502, tolerance: 3453.9389713382743\n",
      "  model = cd_fast.enet_coordinate_descent_gram(\n",
      "D:\\Yazilim\\Yapay Zeka\\Machine Learning\\venv\\lib\\site-packages\\sklearn\\linear_model\\_coordinate_descent.py:617: ConvergenceWarning: Objective did not converge. You might want to increase the number of iterations. Duality gap: 27693.861912453547, tolerance: 3453.9389713382743\n",
      "  model = cd_fast.enet_coordinate_descent_gram(\n",
      "D:\\Yazilim\\Yapay Zeka\\Machine Learning\\venv\\lib\\site-packages\\sklearn\\linear_model\\_coordinate_descent.py:617: ConvergenceWarning: Objective did not converge. You might want to increase the number of iterations. Duality gap: 77056.52704302408, tolerance: 3453.9389713382743\n",
      "  model = cd_fast.enet_coordinate_descent_gram(\n",
      "D:\\Yazilim\\Yapay Zeka\\Machine Learning\\venv\\lib\\site-packages\\sklearn\\linear_model\\_coordinate_descent.py:617: ConvergenceWarning: Objective did not converge. You might want to increase the number of iterations. Duality gap: 128742.79618433118, tolerance: 3453.9389713382743\n",
      "  model = cd_fast.enet_coordinate_descent_gram(\n",
      "D:\\Yazilim\\Yapay Zeka\\Machine Learning\\venv\\lib\\site-packages\\sklearn\\linear_model\\_coordinate_descent.py:617: ConvergenceWarning: Objective did not converge. You might want to increase the number of iterations. Duality gap: 234841.14298508316, tolerance: 3453.9389713382743\n",
      "  model = cd_fast.enet_coordinate_descent_gram(\n",
      "D:\\Yazilim\\Yapay Zeka\\Machine Learning\\venv\\lib\\site-packages\\sklearn\\linear_model\\_coordinate_descent.py:617: ConvergenceWarning: Objective did not converge. You might want to increase the number of iterations. Duality gap: 655320.8009609804, tolerance: 3453.9389713382743\n",
      "  model = cd_fast.enet_coordinate_descent_gram(\n",
      "D:\\Yazilim\\Yapay Zeka\\Machine Learning\\venv\\lib\\site-packages\\sklearn\\linear_model\\_coordinate_descent.py:617: ConvergenceWarning: Objective did not converge. You might want to increase the number of iterations. Duality gap: 1585529.0406797994, tolerance: 3453.9389713382743\n",
      "  model = cd_fast.enet_coordinate_descent_gram(\n",
      "D:\\Yazilim\\Yapay Zeka\\Machine Learning\\venv\\lib\\site-packages\\sklearn\\linear_model\\_coordinate_descent.py:617: ConvergenceWarning: Objective did not converge. You might want to increase the number of iterations. Duality gap: 2359230.380608556, tolerance: 3453.9389713382743\n",
      "  model = cd_fast.enet_coordinate_descent_gram(\n",
      "D:\\Yazilim\\Yapay Zeka\\Machine Learning\\venv\\lib\\site-packages\\sklearn\\linear_model\\_coordinate_descent.py:617: ConvergenceWarning: Objective did not converge. You might want to increase the number of iterations. Duality gap: 2943774.482430836, tolerance: 3453.9389713382743\n",
      "  model = cd_fast.enet_coordinate_descent_gram(\n",
      "D:\\Yazilim\\Yapay Zeka\\Machine Learning\\venv\\lib\\site-packages\\sklearn\\linear_model\\_coordinate_descent.py:617: ConvergenceWarning: Objective did not converge. You might want to increase the number of iterations. Duality gap: 3878962.381741712, tolerance: 3453.9389713382743\n",
      "  model = cd_fast.enet_coordinate_descent_gram(\n",
      "D:\\Yazilim\\Yapay Zeka\\Machine Learning\\venv\\lib\\site-packages\\sklearn\\linear_model\\_coordinate_descent.py:617: ConvergenceWarning: Objective did not converge. You might want to increase the number of iterations. Duality gap: 4062263.568476866, tolerance: 3453.9389713382743\n",
      "  model = cd_fast.enet_coordinate_descent_gram(\n",
      "D:\\Yazilim\\Yapay Zeka\\Machine Learning\\venv\\lib\\site-packages\\sklearn\\linear_model\\_coordinate_descent.py:617: ConvergenceWarning: Objective did not converge. You might want to increase the number of iterations. Duality gap: 4058048.092213507, tolerance: 3453.9389713382743\n",
      "  model = cd_fast.enet_coordinate_descent_gram(\n",
      "D:\\Yazilim\\Yapay Zeka\\Machine Learning\\venv\\lib\\site-packages\\sklearn\\linear_model\\_coordinate_descent.py:617: ConvergenceWarning: Objective did not converge. You might want to increase the number of iterations. Duality gap: 3711498.0204594415, tolerance: 3453.9389713382743\n",
      "  model = cd_fast.enet_coordinate_descent_gram(\n",
      "D:\\Yazilim\\Yapay Zeka\\Machine Learning\\venv\\lib\\site-packages\\sklearn\\linear_model\\_coordinate_descent.py:617: ConvergenceWarning: Objective did not converge. You might want to increase the number of iterations. Duality gap: 2542575.875120503, tolerance: 3453.9389713382743\n",
      "  model = cd_fast.enet_coordinate_descent_gram(\n",
      "D:\\Yazilim\\Yapay Zeka\\Machine Learning\\venv\\lib\\site-packages\\sklearn\\linear_model\\_coordinate_descent.py:617: ConvergenceWarning: Objective did not converge. You might want to increase the number of iterations. Duality gap: 220218.33914855495, tolerance: 3453.9389713382743\n",
      "  model = cd_fast.enet_coordinate_descent_gram(\n",
      "D:\\Yazilim\\Yapay Zeka\\Machine Learning\\venv\\lib\\site-packages\\sklearn\\linear_model\\_coordinate_descent.py:617: ConvergenceWarning: Objective did not converge. You might want to increase the number of iterations. Duality gap: 1865508.5364840757, tolerance: 3453.9389713382743\n",
      "  model = cd_fast.enet_coordinate_descent_gram(\n",
      "D:\\Yazilim\\Yapay Zeka\\Machine Learning\\venv\\lib\\site-packages\\sklearn\\linear_model\\_coordinate_descent.py:617: ConvergenceWarning: Objective did not converge. You might want to increase the number of iterations. Duality gap: 5578616.629815468, tolerance: 3453.9389713382743\n",
      "  model = cd_fast.enet_coordinate_descent_gram(\n",
      "D:\\Yazilim\\Yapay Zeka\\Machine Learning\\venv\\lib\\site-packages\\sklearn\\linear_model\\_coordinate_descent.py:617: ConvergenceWarning: Objective did not converge. You might want to increase the number of iterations. Duality gap: 6542007.227601446, tolerance: 3453.9389713382743\n",
      "  model = cd_fast.enet_coordinate_descent_gram(\n",
      "D:\\Yazilim\\Yapay Zeka\\Machine Learning\\venv\\lib\\site-packages\\sklearn\\linear_model\\_coordinate_descent.py:617: ConvergenceWarning: Objective did not converge. You might want to increase the number of iterations. Duality gap: 7017443.547938415, tolerance: 3453.9389713382743\n",
      "  model = cd_fast.enet_coordinate_descent_gram(\n",
      "D:\\Yazilim\\Yapay Zeka\\Machine Learning\\venv\\lib\\site-packages\\sklearn\\linear_model\\_coordinate_descent.py:617: ConvergenceWarning: Objective did not converge. You might want to increase the number of iterations. Duality gap: 7257492.536351974, tolerance: 3453.9389713382743\n",
      "  model = cd_fast.enet_coordinate_descent_gram(\n",
      "D:\\Yazilim\\Yapay Zeka\\Machine Learning\\venv\\lib\\site-packages\\sklearn\\linear_model\\_coordinate_descent.py:617: ConvergenceWarning: Objective did not converge. You might want to increase the number of iterations. Duality gap: 7388367.455333652, tolerance: 3453.9389713382743\n",
      "  model = cd_fast.enet_coordinate_descent_gram(\n",
      "D:\\Yazilim\\Yapay Zeka\\Machine Learning\\venv\\lib\\site-packages\\sklearn\\linear_model\\_coordinate_descent.py:617: ConvergenceWarning: Objective did not converge. You might want to increase the number of iterations. Duality gap: 7463707.915031662, tolerance: 3453.9389713382743\n",
      "  model = cd_fast.enet_coordinate_descent_gram(\n",
      "D:\\Yazilim\\Yapay Zeka\\Machine Learning\\venv\\lib\\site-packages\\sklearn\\linear_model\\_coordinate_descent.py:617: ConvergenceWarning: Objective did not converge. You might want to increase the number of iterations. Duality gap: 7494212.161873846, tolerance: 3453.9389713382743\n",
      "  model = cd_fast.enet_coordinate_descent_gram(\n",
      "D:\\Yazilim\\Yapay Zeka\\Machine Learning\\venv\\lib\\site-packages\\sklearn\\linear_model\\_coordinate_descent.py:617: ConvergenceWarning: Objective did not converge. You might want to increase the number of iterations. Duality gap: 7537511.397274466, tolerance: 3453.9389713382743\n",
      "  model = cd_fast.enet_coordinate_descent_gram(\n",
      "D:\\Yazilim\\Yapay Zeka\\Machine Learning\\venv\\lib\\site-packages\\sklearn\\linear_model\\_coordinate_descent.py:617: ConvergenceWarning: Objective did not converge. You might want to increase the number of iterations. Duality gap: 7556544.730511124, tolerance: 3453.9389713382743\n",
      "  model = cd_fast.enet_coordinate_descent_gram(\n",
      "D:\\Yazilim\\Yapay Zeka\\Machine Learning\\venv\\lib\\site-packages\\sklearn\\linear_model\\_coordinate_descent.py:617: ConvergenceWarning: Objective did not converge. You might want to increase the number of iterations. Duality gap: 7568392.799374829, tolerance: 3453.9389713382743\n",
      "  model = cd_fast.enet_coordinate_descent_gram(\n",
      "D:\\Yazilim\\Yapay Zeka\\Machine Learning\\venv\\lib\\site-packages\\sklearn\\linear_model\\_coordinate_descent.py:617: ConvergenceWarning: Objective did not converge. You might want to increase the number of iterations. Duality gap: 7576252.732383385, tolerance: 3453.9389713382743\n",
      "  model = cd_fast.enet_coordinate_descent_gram(\n",
      "D:\\Yazilim\\Yapay Zeka\\Machine Learning\\venv\\lib\\site-packages\\sklearn\\linear_model\\_coordinate_descent.py:617: ConvergenceWarning: Objective did not converge. You might want to increase the number of iterations. Duality gap: 7581520.439680194, tolerance: 3453.9389713382743\n",
      "  model = cd_fast.enet_coordinate_descent_gram(\n",
      "D:\\Yazilim\\Yapay Zeka\\Machine Learning\\venv\\lib\\site-packages\\sklearn\\linear_model\\_coordinate_descent.py:617: ConvergenceWarning: Objective did not converge. You might want to increase the number of iterations. Duality gap: 7585036.025371523, tolerance: 3453.9389713382743\n",
      "  model = cd_fast.enet_coordinate_descent_gram(\n",
      "D:\\Yazilim\\Yapay Zeka\\Machine Learning\\venv\\lib\\site-packages\\sklearn\\linear_model\\_coordinate_descent.py:617: ConvergenceWarning: Objective did not converge. You might want to increase the number of iterations. Duality gap: 7587359.901821207, tolerance: 3453.9389713382743\n",
      "  model = cd_fast.enet_coordinate_descent_gram(\n",
      "D:\\Yazilim\\Yapay Zeka\\Machine Learning\\venv\\lib\\site-packages\\sklearn\\linear_model\\_coordinate_descent.py:617: ConvergenceWarning: Objective did not converge. You might want to increase the number of iterations. Duality gap: 7588880.142587457, tolerance: 3453.9389713382743\n",
      "  model = cd_fast.enet_coordinate_descent_gram(\n",
      "D:\\Yazilim\\Yapay Zeka\\Machine Learning\\venv\\lib\\site-packages\\sklearn\\linear_model\\_coordinate_descent.py:617: ConvergenceWarning: Objective did not converge. You might want to increase the number of iterations. Duality gap: 7589866.422330558, tolerance: 3453.9389713382743\n",
      "  model = cd_fast.enet_coordinate_descent_gram(\n",
      "D:\\Yazilim\\Yapay Zeka\\Machine Learning\\venv\\lib\\site-packages\\sklearn\\linear_model\\_coordinate_descent.py:617: ConvergenceWarning: Objective did not converge. You might want to increase the number of iterations. Duality gap: 7590503.35846958, tolerance: 3453.9389713382743\n",
      "  model = cd_fast.enet_coordinate_descent_gram(\n",
      "D:\\Yazilim\\Yapay Zeka\\Machine Learning\\venv\\lib\\site-packages\\sklearn\\linear_model\\_coordinate_descent.py:617: ConvergenceWarning: Objective did not converge. You might want to increase the number of iterations. Duality gap: 7590914.623269338, tolerance: 3453.9389713382743\n",
      "  model = cd_fast.enet_coordinate_descent_gram(\n",
      "D:\\Yazilim\\Yapay Zeka\\Machine Learning\\venv\\lib\\site-packages\\sklearn\\linear_model\\_coordinate_descent.py:617: ConvergenceWarning: Objective did not converge. You might want to increase the number of iterations. Duality gap: 7591181.315363436, tolerance: 3453.9389713382743\n",
      "  model = cd_fast.enet_coordinate_descent_gram(\n",
      "D:\\Yazilim\\Yapay Zeka\\Machine Learning\\venv\\lib\\site-packages\\sklearn\\linear_model\\_coordinate_descent.py:617: ConvergenceWarning: Objective did not converge. You might want to increase the number of iterations. Duality gap: 51104.90982571617, tolerance: 3582.448344789122\n",
      "  model = cd_fast.enet_coordinate_descent_gram(\n",
      "D:\\Yazilim\\Yapay Zeka\\Machine Learning\\venv\\lib\\site-packages\\sklearn\\linear_model\\_coordinate_descent.py:617: ConvergenceWarning: Objective did not converge. You might want to increase the number of iterations. Duality gap: 86001.20446396247, tolerance: 3582.448344789122\n",
      "  model = cd_fast.enet_coordinate_descent_gram(\n",
      "D:\\Yazilim\\Yapay Zeka\\Machine Learning\\venv\\lib\\site-packages\\sklearn\\linear_model\\_coordinate_descent.py:617: ConvergenceWarning: Objective did not converge. You might want to increase the number of iterations. Duality gap: 124299.87193861045, tolerance: 3582.448344789122\n",
      "  model = cd_fast.enet_coordinate_descent_gram(\n",
      "D:\\Yazilim\\Yapay Zeka\\Machine Learning\\venv\\lib\\site-packages\\sklearn\\linear_model\\_coordinate_descent.py:617: ConvergenceWarning: Objective did not converge. You might want to increase the number of iterations. Duality gap: 163171.28459143452, tolerance: 3582.448344789122\n",
      "  model = cd_fast.enet_coordinate_descent_gram(\n",
      "D:\\Yazilim\\Yapay Zeka\\Machine Learning\\venv\\lib\\site-packages\\sklearn\\linear_model\\_coordinate_descent.py:617: ConvergenceWarning: Objective did not converge. You might want to increase the number of iterations. Duality gap: 199613.01593249664, tolerance: 3582.448344789122\n",
      "  model = cd_fast.enet_coordinate_descent_gram(\n",
      "D:\\Yazilim\\Yapay Zeka\\Machine Learning\\venv\\lib\\site-packages\\sklearn\\linear_model\\_coordinate_descent.py:617: ConvergenceWarning: Objective did not converge. You might want to increase the number of iterations. Duality gap: 226297.59059041552, tolerance: 3582.448344789122\n",
      "  model = cd_fast.enet_coordinate_descent_gram(\n",
      "D:\\Yazilim\\Yapay Zeka\\Machine Learning\\venv\\lib\\site-packages\\sklearn\\linear_model\\_coordinate_descent.py:617: ConvergenceWarning: Objective did not converge. You might want to increase the number of iterations. Duality gap: 236325.4830554761, tolerance: 3582.448344789122\n",
      "  model = cd_fast.enet_coordinate_descent_gram(\n",
      "D:\\Yazilim\\Yapay Zeka\\Machine Learning\\venv\\lib\\site-packages\\sklearn\\linear_model\\_coordinate_descent.py:617: ConvergenceWarning: Objective did not converge. You might want to increase the number of iterations. Duality gap: 222091.5083936192, tolerance: 3582.448344789122\n",
      "  model = cd_fast.enet_coordinate_descent_gram(\n",
      "D:\\Yazilim\\Yapay Zeka\\Machine Learning\\venv\\lib\\site-packages\\sklearn\\linear_model\\_coordinate_descent.py:617: ConvergenceWarning: Objective did not converge. You might want to increase the number of iterations. Duality gap: 175489.4561501462, tolerance: 3582.448344789122\n",
      "  model = cd_fast.enet_coordinate_descent_gram(\n",
      "D:\\Yazilim\\Yapay Zeka\\Machine Learning\\venv\\lib\\site-packages\\sklearn\\linear_model\\_coordinate_descent.py:617: ConvergenceWarning: Objective did not converge. You might want to increase the number of iterations. Duality gap: 92900.06666100956, tolerance: 3582.448344789122\n",
      "  model = cd_fast.enet_coordinate_descent_gram(\n",
      "D:\\Yazilim\\Yapay Zeka\\Machine Learning\\venv\\lib\\site-packages\\sklearn\\linear_model\\_coordinate_descent.py:617: ConvergenceWarning: Objective did not converge. You might want to increase the number of iterations. Duality gap: 5688.245473416522, tolerance: 3582.448344789122\n",
      "  model = cd_fast.enet_coordinate_descent_gram(\n",
      "D:\\Yazilim\\Yapay Zeka\\Machine Learning\\venv\\lib\\site-packages\\sklearn\\linear_model\\_coordinate_descent.py:617: ConvergenceWarning: Objective did not converge. You might want to increase the number of iterations. Duality gap: 2438817.698645721, tolerance: 3582.448344789122\n",
      "  model = cd_fast.enet_coordinate_descent_gram(\n",
      "D:\\Yazilim\\Yapay Zeka\\Machine Learning\\venv\\lib\\site-packages\\sklearn\\linear_model\\_coordinate_descent.py:617: ConvergenceWarning: Objective did not converge. You might want to increase the number of iterations. Duality gap: 4551640.492621636, tolerance: 3582.448344789122\n",
      "  model = cd_fast.enet_coordinate_descent_gram(\n",
      "D:\\Yazilim\\Yapay Zeka\\Machine Learning\\venv\\lib\\site-packages\\sklearn\\linear_model\\_coordinate_descent.py:617: ConvergenceWarning: Objective did not converge. You might want to increase the number of iterations. Duality gap: 5666781.228328047, tolerance: 3582.448344789122\n",
      "  model = cd_fast.enet_coordinate_descent_gram(\n",
      "D:\\Yazilim\\Yapay Zeka\\Machine Learning\\venv\\lib\\site-packages\\sklearn\\linear_model\\_coordinate_descent.py:617: ConvergenceWarning: Objective did not converge. You might want to increase the number of iterations. Duality gap: 6274516.978291312, tolerance: 3582.448344789122\n",
      "  model = cd_fast.enet_coordinate_descent_gram(\n",
      "D:\\Yazilim\\Yapay Zeka\\Machine Learning\\venv\\lib\\site-packages\\sklearn\\linear_model\\_coordinate_descent.py:617: ConvergenceWarning: Objective did not converge. You might want to increase the number of iterations. Duality gap: 6618924.049952422, tolerance: 3582.448344789122\n",
      "  model = cd_fast.enet_coordinate_descent_gram(\n",
      "D:\\Yazilim\\Yapay Zeka\\Machine Learning\\venv\\lib\\site-packages\\sklearn\\linear_model\\_coordinate_descent.py:617: ConvergenceWarning: Objective did not converge. You might want to increase the number of iterations. Duality gap: 6819925.021828065, tolerance: 3582.448344789122\n",
      "  model = cd_fast.enet_coordinate_descent_gram(\n",
      "D:\\Yazilim\\Yapay Zeka\\Machine Learning\\venv\\lib\\site-packages\\sklearn\\linear_model\\_coordinate_descent.py:617: ConvergenceWarning: Objective did not converge. You might want to increase the number of iterations. Duality gap: 6939888.740247701, tolerance: 3582.448344789122\n",
      "  model = cd_fast.enet_coordinate_descent_gram(\n",
      "D:\\Yazilim\\Yapay Zeka\\Machine Learning\\venv\\lib\\site-packages\\sklearn\\linear_model\\_coordinate_descent.py:617: ConvergenceWarning: Objective did not converge. You might want to increase the number of iterations. Duality gap: 7012853.650525742, tolerance: 3582.448344789122\n",
      "  model = cd_fast.enet_coordinate_descent_gram(\n",
      "D:\\Yazilim\\Yapay Zeka\\Machine Learning\\venv\\lib\\site-packages\\sklearn\\linear_model\\_coordinate_descent.py:617: ConvergenceWarning: Objective did not converge. You might want to increase the number of iterations. Duality gap: 7058050.445097568, tolerance: 3582.448344789122\n",
      "  model = cd_fast.enet_coordinate_descent_gram(\n",
      "D:\\Yazilim\\Yapay Zeka\\Machine Learning\\venv\\lib\\site-packages\\sklearn\\linear_model\\_coordinate_descent.py:617: ConvergenceWarning: Objective did not converge. You might want to increase the number of iterations. Duality gap: 7076979.857823528, tolerance: 3582.448344789122\n",
      "  model = cd_fast.enet_coordinate_descent_gram(\n",
      "D:\\Yazilim\\Yapay Zeka\\Machine Learning\\venv\\lib\\site-packages\\sklearn\\linear_model\\_coordinate_descent.py:617: ConvergenceWarning: Objective did not converge. You might want to increase the number of iterations. Duality gap: 7105751.217368898, tolerance: 3582.448344789122\n",
      "  model = cd_fast.enet_coordinate_descent_gram(\n",
      "D:\\Yazilim\\Yapay Zeka\\Machine Learning\\venv\\lib\\site-packages\\sklearn\\linear_model\\_coordinate_descent.py:617: ConvergenceWarning: Objective did not converge. You might want to increase the number of iterations. Duality gap: 7116703.7434340995, tolerance: 3582.448344789122\n",
      "  model = cd_fast.enet_coordinate_descent_gram(\n",
      "D:\\Yazilim\\Yapay Zeka\\Machine Learning\\venv\\lib\\site-packages\\sklearn\\linear_model\\_coordinate_descent.py:617: ConvergenceWarning: Objective did not converge. You might want to increase the number of iterations. Duality gap: 7127849.608493686, tolerance: 3582.448344789122\n",
      "  model = cd_fast.enet_coordinate_descent_gram(\n",
      "D:\\Yazilim\\Yapay Zeka\\Machine Learning\\venv\\lib\\site-packages\\sklearn\\linear_model\\_coordinate_descent.py:617: ConvergenceWarning: Objective did not converge. You might want to increase the number of iterations. Duality gap: 7131404.055160338, tolerance: 3582.448344789122\n",
      "  model = cd_fast.enet_coordinate_descent_gram(\n",
      "D:\\Yazilim\\Yapay Zeka\\Machine Learning\\venv\\lib\\site-packages\\sklearn\\linear_model\\_coordinate_descent.py:617: ConvergenceWarning: Objective did not converge. You might want to increase the number of iterations. Duality gap: 7134893.576547977, tolerance: 3582.448344789122\n",
      "  model = cd_fast.enet_coordinate_descent_gram(\n",
      "D:\\Yazilim\\Yapay Zeka\\Machine Learning\\venv\\lib\\site-packages\\sklearn\\linear_model\\_coordinate_descent.py:617: ConvergenceWarning: Objective did not converge. You might want to increase the number of iterations. Duality gap: 7137346.992026193, tolerance: 3582.448344789122\n",
      "  model = cd_fast.enet_coordinate_descent_gram(\n",
      "D:\\Yazilim\\Yapay Zeka\\Machine Learning\\venv\\lib\\site-packages\\sklearn\\linear_model\\_coordinate_descent.py:617: ConvergenceWarning: Objective did not converge. You might want to increase the number of iterations. Duality gap: 7139015.1661683945, tolerance: 3582.448344789122\n",
      "  model = cd_fast.enet_coordinate_descent_gram(\n",
      "D:\\Yazilim\\Yapay Zeka\\Machine Learning\\venv\\lib\\site-packages\\sklearn\\linear_model\\_coordinate_descent.py:617: ConvergenceWarning: Objective did not converge. You might want to increase the number of iterations. Duality gap: 7140147.34606438, tolerance: 3582.448344789122\n",
      "  model = cd_fast.enet_coordinate_descent_gram(\n",
      "D:\\Yazilim\\Yapay Zeka\\Machine Learning\\venv\\lib\\site-packages\\sklearn\\linear_model\\_coordinate_descent.py:617: ConvergenceWarning: Objective did not converge. You might want to increase the number of iterations. Duality gap: 7140919.229060211, tolerance: 3582.448344789122\n",
      "  model = cd_fast.enet_coordinate_descent_gram(\n",
      "D:\\Yazilim\\Yapay Zeka\\Machine Learning\\venv\\lib\\site-packages\\sklearn\\linear_model\\_coordinate_descent.py:617: ConvergenceWarning: Objective did not converge. You might want to increase the number of iterations. Duality gap: 7141449.453661046, tolerance: 3582.448344789122\n",
      "  model = cd_fast.enet_coordinate_descent_gram(\n",
      "D:\\Yazilim\\Yapay Zeka\\Machine Learning\\venv\\lib\\site-packages\\sklearn\\linear_model\\_coordinate_descent.py:617: ConvergenceWarning: Objective did not converge. You might want to increase the number of iterations. Duality gap: 7141817.185970565, tolerance: 3582.448344789122\n",
      "  model = cd_fast.enet_coordinate_descent_gram(\n",
      "D:\\Yazilim\\Yapay Zeka\\Machine Learning\\venv\\lib\\site-packages\\sklearn\\linear_model\\_coordinate_descent.py:617: ConvergenceWarning: Objective did not converge. You might want to increase the number of iterations. Duality gap: 4891.7306078169495, tolerance: 3343.765513901127\n",
      "  model = cd_fast.enet_coordinate_descent_gram(\n",
      "D:\\Yazilim\\Yapay Zeka\\Machine Learning\\venv\\lib\\site-packages\\sklearn\\linear_model\\_coordinate_descent.py:617: ConvergenceWarning: Objective did not converge. You might want to increase the number of iterations. Duality gap: 21878.274431616068, tolerance: 3343.765513901127\n",
      "  model = cd_fast.enet_coordinate_descent_gram(\n",
      "D:\\Yazilim\\Yapay Zeka\\Machine Learning\\venv\\lib\\site-packages\\sklearn\\linear_model\\_coordinate_descent.py:617: ConvergenceWarning: Objective did not converge. You might want to increase the number of iterations. Duality gap: 56824.89526849985, tolerance: 3343.765513901127\n",
      "  model = cd_fast.enet_coordinate_descent_gram(\n",
      "D:\\Yazilim\\Yapay Zeka\\Machine Learning\\venv\\lib\\site-packages\\sklearn\\linear_model\\_coordinate_descent.py:617: ConvergenceWarning: Objective did not converge. You might want to increase the number of iterations. Duality gap: 200353.91856047884, tolerance: 3343.765513901127\n",
      "  model = cd_fast.enet_coordinate_descent_gram(\n",
      "D:\\Yazilim\\Yapay Zeka\\Machine Learning\\venv\\lib\\site-packages\\sklearn\\linear_model\\_coordinate_descent.py:617: ConvergenceWarning: Objective did not converge. You might want to increase the number of iterations. Duality gap: 342303.45613799244, tolerance: 3343.765513901127\n",
      "  model = cd_fast.enet_coordinate_descent_gram(\n",
      "D:\\Yazilim\\Yapay Zeka\\Machine Learning\\venv\\lib\\site-packages\\sklearn\\linear_model\\_coordinate_descent.py:617: ConvergenceWarning: Objective did not converge. You might want to increase the number of iterations. Duality gap: 531378.5045262091, tolerance: 3343.765513901127\n",
      "  model = cd_fast.enet_coordinate_descent_gram(\n",
      "D:\\Yazilim\\Yapay Zeka\\Machine Learning\\venv\\lib\\site-packages\\sklearn\\linear_model\\_coordinate_descent.py:617: ConvergenceWarning: Objective did not converge. You might want to increase the number of iterations. Duality gap: 1659301.314969264, tolerance: 3343.765513901127\n",
      "  model = cd_fast.enet_coordinate_descent_gram(\n",
      "D:\\Yazilim\\Yapay Zeka\\Machine Learning\\venv\\lib\\site-packages\\sklearn\\linear_model\\_coordinate_descent.py:617: ConvergenceWarning: Objective did not converge. You might want to increase the number of iterations. Duality gap: 2711701.2208212614, tolerance: 3343.765513901127\n",
      "  model = cd_fast.enet_coordinate_descent_gram(\n",
      "D:\\Yazilim\\Yapay Zeka\\Machine Learning\\venv\\lib\\site-packages\\sklearn\\linear_model\\_coordinate_descent.py:617: ConvergenceWarning: Objective did not converge. You might want to increase the number of iterations. Duality gap: 3504700.3175446372, tolerance: 3343.765513901127\n",
      "  model = cd_fast.enet_coordinate_descent_gram(\n",
      "D:\\Yazilim\\Yapay Zeka\\Machine Learning\\venv\\lib\\site-packages\\sklearn\\linear_model\\_coordinate_descent.py:617: ConvergenceWarning: Objective did not converge. You might want to increase the number of iterations. Duality gap: 4070925.32257937, tolerance: 3343.765513901127\n",
      "  model = cd_fast.enet_coordinate_descent_gram(\n",
      "D:\\Yazilim\\Yapay Zeka\\Machine Learning\\venv\\lib\\site-packages\\sklearn\\linear_model\\_coordinate_descent.py:617: ConvergenceWarning: Objective did not converge. You might want to increase the number of iterations. Duality gap: 4459448.613175227, tolerance: 3343.765513901127\n",
      "  model = cd_fast.enet_coordinate_descent_gram(\n",
      "D:\\Yazilim\\Yapay Zeka\\Machine Learning\\venv\\lib\\site-packages\\sklearn\\linear_model\\_coordinate_descent.py:617: ConvergenceWarning: Objective did not converge. You might want to increase the number of iterations. Duality gap: 4704667.3072728515, tolerance: 3343.765513901127\n",
      "  model = cd_fast.enet_coordinate_descent_gram(\n",
      "D:\\Yazilim\\Yapay Zeka\\Machine Learning\\venv\\lib\\site-packages\\sklearn\\linear_model\\_coordinate_descent.py:617: ConvergenceWarning: Objective did not converge. You might want to increase the number of iterations. Duality gap: 4821661.203546837, tolerance: 3343.765513901127\n",
      "  model = cd_fast.enet_coordinate_descent_gram(\n",
      "D:\\Yazilim\\Yapay Zeka\\Machine Learning\\venv\\lib\\site-packages\\sklearn\\linear_model\\_coordinate_descent.py:617: ConvergenceWarning: Objective did not converge. You might want to increase the number of iterations. Duality gap: 4799994.380423845, tolerance: 3343.765513901127\n",
      "  model = cd_fast.enet_coordinate_descent_gram(\n",
      "D:\\Yazilim\\Yapay Zeka\\Machine Learning\\venv\\lib\\site-packages\\sklearn\\linear_model\\_coordinate_descent.py:617: ConvergenceWarning: Objective did not converge. You might want to increase the number of iterations. Duality gap: 4581093.933236187, tolerance: 3343.765513901127\n",
      "  model = cd_fast.enet_coordinate_descent_gram(\n",
      "D:\\Yazilim\\Yapay Zeka\\Machine Learning\\venv\\lib\\site-packages\\sklearn\\linear_model\\_coordinate_descent.py:617: ConvergenceWarning: Objective did not converge. You might want to increase the number of iterations. Duality gap: 3967734.8098331946, tolerance: 3343.765513901127\n",
      "  model = cd_fast.enet_coordinate_descent_gram(\n",
      "D:\\Yazilim\\Yapay Zeka\\Machine Learning\\venv\\lib\\site-packages\\sklearn\\linear_model\\_coordinate_descent.py:617: ConvergenceWarning: Objective did not converge. You might want to increase the number of iterations. Duality gap: 2125357.8386876285, tolerance: 3343.765513901127\n",
      "  model = cd_fast.enet_coordinate_descent_gram(\n",
      "D:\\Yazilim\\Yapay Zeka\\Machine Learning\\venv\\lib\\site-packages\\sklearn\\linear_model\\_coordinate_descent.py:617: ConvergenceWarning: Objective did not converge. You might want to increase the number of iterations. Duality gap: 155148.4583850149, tolerance: 3343.765513901127\n",
      "  model = cd_fast.enet_coordinate_descent_gram(\n",
      "D:\\Yazilim\\Yapay Zeka\\Machine Learning\\venv\\lib\\site-packages\\sklearn\\linear_model\\_coordinate_descent.py:617: ConvergenceWarning: Objective did not converge. You might want to increase the number of iterations. Duality gap: 3641768.36661209, tolerance: 3343.765513901127\n",
      "  model = cd_fast.enet_coordinate_descent_gram(\n",
      "D:\\Yazilim\\Yapay Zeka\\Machine Learning\\venv\\lib\\site-packages\\sklearn\\linear_model\\_coordinate_descent.py:617: ConvergenceWarning: Objective did not converge. You might want to increase the number of iterations. Duality gap: 5531980.260670848, tolerance: 3343.765513901127\n",
      "  model = cd_fast.enet_coordinate_descent_gram(\n",
      "D:\\Yazilim\\Yapay Zeka\\Machine Learning\\venv\\lib\\site-packages\\sklearn\\linear_model\\_coordinate_descent.py:617: ConvergenceWarning: Objective did not converge. You might want to increase the number of iterations. Duality gap: 6233312.056280594, tolerance: 3343.765513901127\n",
      "  model = cd_fast.enet_coordinate_descent_gram(\n",
      "D:\\Yazilim\\Yapay Zeka\\Machine Learning\\venv\\lib\\site-packages\\sklearn\\linear_model\\_coordinate_descent.py:617: ConvergenceWarning: Objective did not converge. You might want to increase the number of iterations. Duality gap: 6577908.212052431, tolerance: 3343.765513901127\n",
      "  model = cd_fast.enet_coordinate_descent_gram(\n",
      "D:\\Yazilim\\Yapay Zeka\\Machine Learning\\venv\\lib\\site-packages\\sklearn\\linear_model\\_coordinate_descent.py:617: ConvergenceWarning: Objective did not converge. You might want to increase the number of iterations. Duality gap: 6773934.301894381, tolerance: 3343.765513901127\n",
      "  model = cd_fast.enet_coordinate_descent_gram(\n",
      "D:\\Yazilim\\Yapay Zeka\\Machine Learning\\venv\\lib\\site-packages\\sklearn\\linear_model\\_coordinate_descent.py:617: ConvergenceWarning: Objective did not converge. You might want to increase the number of iterations. Duality gap: 6869192.625874208, tolerance: 3343.765513901127\n",
      "  model = cd_fast.enet_coordinate_descent_gram(\n",
      "D:\\Yazilim\\Yapay Zeka\\Machine Learning\\venv\\lib\\site-packages\\sklearn\\linear_model\\_coordinate_descent.py:617: ConvergenceWarning: Objective did not converge. You might want to increase the number of iterations. Duality gap: 6977555.60255177, tolerance: 3343.765513901127\n",
      "  model = cd_fast.enet_coordinate_descent_gram(\n",
      "D:\\Yazilim\\Yapay Zeka\\Machine Learning\\venv\\lib\\site-packages\\sklearn\\linear_model\\_coordinate_descent.py:617: ConvergenceWarning: Objective did not converge. You might want to increase the number of iterations. Duality gap: 7034830.798403375, tolerance: 3343.765513901127\n",
      "  model = cd_fast.enet_coordinate_descent_gram(\n",
      "D:\\Yazilim\\Yapay Zeka\\Machine Learning\\venv\\lib\\site-packages\\sklearn\\linear_model\\_coordinate_descent.py:617: ConvergenceWarning: Objective did not converge. You might want to increase the number of iterations. Duality gap: 7073919.740564158, tolerance: 3343.765513901127\n",
      "  model = cd_fast.enet_coordinate_descent_gram(\n",
      "D:\\Yazilim\\Yapay Zeka\\Machine Learning\\venv\\lib\\site-packages\\sklearn\\linear_model\\_coordinate_descent.py:617: ConvergenceWarning: Objective did not converge. You might want to increase the number of iterations. Duality gap: 7101814.5368689485, tolerance: 3343.765513901127\n",
      "  model = cd_fast.enet_coordinate_descent_gram(\n",
      "D:\\Yazilim\\Yapay Zeka\\Machine Learning\\venv\\lib\\site-packages\\sklearn\\linear_model\\_coordinate_descent.py:617: ConvergenceWarning: Objective did not converge. You might want to increase the number of iterations. Duality gap: 7121974.106435272, tolerance: 3343.765513901127\n",
      "  model = cd_fast.enet_coordinate_descent_gram(\n",
      "D:\\Yazilim\\Yapay Zeka\\Machine Learning\\venv\\lib\\site-packages\\sklearn\\linear_model\\_coordinate_descent.py:617: ConvergenceWarning: Objective did not converge. You might want to increase the number of iterations. Duality gap: 7136638.084995964, tolerance: 3343.765513901127\n",
      "  model = cd_fast.enet_coordinate_descent_gram(\n",
      "D:\\Yazilim\\Yapay Zeka\\Machine Learning\\venv\\lib\\site-packages\\sklearn\\linear_model\\_coordinate_descent.py:617: ConvergenceWarning: Objective did not converge. You might want to increase the number of iterations. Duality gap: 7147356.819674644, tolerance: 3343.765513901127\n",
      "  model = cd_fast.enet_coordinate_descent_gram(\n",
      "D:\\Yazilim\\Yapay Zeka\\Machine Learning\\venv\\lib\\site-packages\\sklearn\\linear_model\\_coordinate_descent.py:617: ConvergenceWarning: Objective did not converge. You might want to increase the number of iterations. Duality gap: 7155226.876259181, tolerance: 3343.765513901127\n",
      "  model = cd_fast.enet_coordinate_descent_gram(\n",
      "D:\\Yazilim\\Yapay Zeka\\Machine Learning\\venv\\lib\\site-packages\\sklearn\\linear_model\\_coordinate_descent.py:617: ConvergenceWarning: Objective did not converge. You might want to increase the number of iterations. Duality gap: 7161030.439714674, tolerance: 3343.765513901127\n",
      "  model = cd_fast.enet_coordinate_descent_gram(\n",
      "D:\\Yazilim\\Yapay Zeka\\Machine Learning\\venv\\lib\\site-packages\\sklearn\\linear_model\\_coordinate_descent.py:617: ConvergenceWarning: Objective did not converge. You might want to increase the number of iterations. Duality gap: 7165327.889632934, tolerance: 3343.765513901127\n",
      "  model = cd_fast.enet_coordinate_descent_gram(\n",
      "D:\\Yazilim\\Yapay Zeka\\Machine Learning\\venv\\lib\\site-packages\\sklearn\\linear_model\\_coordinate_descent.py:617: ConvergenceWarning: Objective did not converge. You might want to increase the number of iterations. Duality gap: 7168522.25142314, tolerance: 3343.765513901127\n",
      "  model = cd_fast.enet_coordinate_descent_gram(\n",
      "D:\\Yazilim\\Yapay Zeka\\Machine Learning\\venv\\lib\\site-packages\\sklearn\\linear_model\\_coordinate_descent.py:617: ConvergenceWarning: Objective did not converge. You might want to increase the number of iterations. Duality gap: 16776.72526386939, tolerance: 3701.0815904731803\n",
      "  model = cd_fast.enet_coordinate_descent_gram(\n",
      "D:\\Yazilim\\Yapay Zeka\\Machine Learning\\venv\\lib\\site-packages\\sklearn\\linear_model\\_coordinate_descent.py:617: ConvergenceWarning: Objective did not converge. You might want to increase the number of iterations. Duality gap: 313915.6719014235, tolerance: 3701.0815904731803\n",
      "  model = cd_fast.enet_coordinate_descent_gram(\n",
      "D:\\Yazilim\\Yapay Zeka\\Machine Learning\\venv\\lib\\site-packages\\sklearn\\linear_model\\_coordinate_descent.py:617: ConvergenceWarning: Objective did not converge. You might want to increase the number of iterations. Duality gap: 438819.24887807854, tolerance: 3701.0815904731803\n",
      "  model = cd_fast.enet_coordinate_descent_gram(\n",
      "D:\\Yazilim\\Yapay Zeka\\Machine Learning\\venv\\lib\\site-packages\\sklearn\\linear_model\\_coordinate_descent.py:617: ConvergenceWarning: Objective did not converge. You might want to increase the number of iterations. Duality gap: 903233.6314810794, tolerance: 3701.0815904731803\n",
      "  model = cd_fast.enet_coordinate_descent_gram(\n",
      "D:\\Yazilim\\Yapay Zeka\\Machine Learning\\venv\\lib\\site-packages\\sklearn\\linear_model\\_coordinate_descent.py:617: ConvergenceWarning: Objective did not converge. You might want to increase the number of iterations. Duality gap: 1444700.7958664447, tolerance: 3701.0815904731803\n",
      "  model = cd_fast.enet_coordinate_descent_gram(\n",
      "D:\\Yazilim\\Yapay Zeka\\Machine Learning\\venv\\lib\\site-packages\\sklearn\\linear_model\\_coordinate_descent.py:617: ConvergenceWarning: Objective did not converge. You might want to increase the number of iterations. Duality gap: 1710822.522883309, tolerance: 3701.0815904731803\n",
      "  model = cd_fast.enet_coordinate_descent_gram(\n",
      "D:\\Yazilim\\Yapay Zeka\\Machine Learning\\venv\\lib\\site-packages\\sklearn\\linear_model\\_coordinate_descent.py:617: ConvergenceWarning: Objective did not converge. You might want to increase the number of iterations. Duality gap: 1578407.466565812, tolerance: 3701.0815904731803\n",
      "  model = cd_fast.enet_coordinate_descent_gram(\n",
      "D:\\Yazilim\\Yapay Zeka\\Machine Learning\\venv\\lib\\site-packages\\sklearn\\linear_model\\_coordinate_descent.py:617: ConvergenceWarning: Objective did not converge. You might want to increase the number of iterations. Duality gap: 787482.6757482961, tolerance: 3701.0815904731803\n",
      "  model = cd_fast.enet_coordinate_descent_gram(\n",
      "D:\\Yazilim\\Yapay Zeka\\Machine Learning\\venv\\lib\\site-packages\\sklearn\\linear_model\\_coordinate_descent.py:617: ConvergenceWarning: Objective did not converge. You might want to increase the number of iterations. Duality gap: 288554.6009805612, tolerance: 3701.0815904731803\n",
      "  model = cd_fast.enet_coordinate_descent_gram(\n",
      "D:\\Yazilim\\Yapay Zeka\\Machine Learning\\venv\\lib\\site-packages\\sklearn\\linear_model\\_coordinate_descent.py:617: ConvergenceWarning: Objective did not converge. You might want to increase the number of iterations. Duality gap: 16065.329135477543, tolerance: 3701.0815904731803\n",
      "  model = cd_fast.enet_coordinate_descent_gram(\n",
      "D:\\Yazilim\\Yapay Zeka\\Machine Learning\\venv\\lib\\site-packages\\sklearn\\linear_model\\_coordinate_descent.py:617: ConvergenceWarning: Objective did not converge. You might want to increase the number of iterations. Duality gap: 3295353.002904944, tolerance: 3701.0815904731803\n",
      "  model = cd_fast.enet_coordinate_descent_gram(\n",
      "D:\\Yazilim\\Yapay Zeka\\Machine Learning\\venv\\lib\\site-packages\\sklearn\\linear_model\\_coordinate_descent.py:617: ConvergenceWarning: Objective did not converge. You might want to increase the number of iterations. Duality gap: 5441477.640869332, tolerance: 3701.0815904731803\n",
      "  model = cd_fast.enet_coordinate_descent_gram(\n",
      "D:\\Yazilim\\Yapay Zeka\\Machine Learning\\venv\\lib\\site-packages\\sklearn\\linear_model\\_coordinate_descent.py:617: ConvergenceWarning: Objective did not converge. You might want to increase the number of iterations. Duality gap: 6368596.006104152, tolerance: 3701.0815904731803\n",
      "  model = cd_fast.enet_coordinate_descent_gram(\n",
      "D:\\Yazilim\\Yapay Zeka\\Machine Learning\\venv\\lib\\site-packages\\sklearn\\linear_model\\_coordinate_descent.py:617: ConvergenceWarning: Objective did not converge. You might want to increase the number of iterations. Duality gap: 6830870.435496983, tolerance: 3701.0815904731803\n",
      "  model = cd_fast.enet_coordinate_descent_gram(\n",
      "D:\\Yazilim\\Yapay Zeka\\Machine Learning\\venv\\lib\\site-packages\\sklearn\\linear_model\\_coordinate_descent.py:617: ConvergenceWarning: Objective did not converge. You might want to increase the number of iterations. Duality gap: 7082059.059639936, tolerance: 3701.0815904731803\n",
      "  model = cd_fast.enet_coordinate_descent_gram(\n",
      "D:\\Yazilim\\Yapay Zeka\\Machine Learning\\venv\\lib\\site-packages\\sklearn\\linear_model\\_coordinate_descent.py:617: ConvergenceWarning: Objective did not converge. You might want to increase the number of iterations. Duality gap: 7225920.737031145, tolerance: 3701.0815904731803\n",
      "  model = cd_fast.enet_coordinate_descent_gram(\n",
      "D:\\Yazilim\\Yapay Zeka\\Machine Learning\\venv\\lib\\site-packages\\sklearn\\linear_model\\_coordinate_descent.py:617: ConvergenceWarning: Objective did not converge. You might want to increase the number of iterations. Duality gap: 7311264.696813333, tolerance: 3701.0815904731803\n",
      "  model = cd_fast.enet_coordinate_descent_gram(\n",
      "D:\\Yazilim\\Yapay Zeka\\Machine Learning\\venv\\lib\\site-packages\\sklearn\\linear_model\\_coordinate_descent.py:617: ConvergenceWarning: Objective did not converge. You might want to increase the number of iterations. Duality gap: 7363290.947998382, tolerance: 3701.0815904731803\n",
      "  model = cd_fast.enet_coordinate_descent_gram(\n",
      "D:\\Yazilim\\Yapay Zeka\\Machine Learning\\venv\\lib\\site-packages\\sklearn\\linear_model\\_coordinate_descent.py:617: ConvergenceWarning: Objective did not converge. You might want to increase the number of iterations. Duality gap: 7395832.277088463, tolerance: 3701.0815904731803\n",
      "  model = cd_fast.enet_coordinate_descent_gram(\n",
      "D:\\Yazilim\\Yapay Zeka\\Machine Learning\\venv\\lib\\site-packages\\sklearn\\linear_model\\_coordinate_descent.py:617: ConvergenceWarning: Objective did not converge. You might want to increase the number of iterations. Duality gap: 7416780.639804196, tolerance: 3701.0815904731803\n",
      "  model = cd_fast.enet_coordinate_descent_gram(\n",
      "D:\\Yazilim\\Yapay Zeka\\Machine Learning\\venv\\lib\\site-packages\\sklearn\\linear_model\\_coordinate_descent.py:617: ConvergenceWarning: Objective did not converge. You might want to increase the number of iterations. Duality gap: 7430735.873309735, tolerance: 3701.0815904731803\n",
      "  model = cd_fast.enet_coordinate_descent_gram(\n",
      "D:\\Yazilim\\Yapay Zeka\\Machine Learning\\venv\\lib\\site-packages\\sklearn\\linear_model\\_coordinate_descent.py:617: ConvergenceWarning: Objective did not converge. You might want to increase the number of iterations. Duality gap: 7440400.532240219, tolerance: 3701.0815904731803\n",
      "  model = cd_fast.enet_coordinate_descent_gram(\n",
      "D:\\Yazilim\\Yapay Zeka\\Machine Learning\\venv\\lib\\site-packages\\sklearn\\linear_model\\_coordinate_descent.py:617: ConvergenceWarning: Objective did not converge. You might want to increase the number of iterations. Duality gap: 7447361.139123042, tolerance: 3701.0815904731803\n",
      "  model = cd_fast.enet_coordinate_descent_gram(\n",
      "D:\\Yazilim\\Yapay Zeka\\Machine Learning\\venv\\lib\\site-packages\\sklearn\\linear_model\\_coordinate_descent.py:617: ConvergenceWarning: Objective did not converge. You might want to increase the number of iterations. Duality gap: 7452547.10541938, tolerance: 3701.0815904731803\n",
      "  model = cd_fast.enet_coordinate_descent_gram(\n",
      "D:\\Yazilim\\Yapay Zeka\\Machine Learning\\venv\\lib\\site-packages\\sklearn\\linear_model\\_coordinate_descent.py:617: ConvergenceWarning: Objective did not converge. You might want to increase the number of iterations. Duality gap: 7453614.117561289, tolerance: 3701.0815904731803\n",
      "  model = cd_fast.enet_coordinate_descent_gram(\n",
      "D:\\Yazilim\\Yapay Zeka\\Machine Learning\\venv\\lib\\site-packages\\sklearn\\linear_model\\_coordinate_descent.py:617: ConvergenceWarning: Objective did not converge. You might want to increase the number of iterations. Duality gap: 7459988.383291732, tolerance: 3701.0815904731803\n",
      "  model = cd_fast.enet_coordinate_descent_gram(\n",
      "D:\\Yazilim\\Yapay Zeka\\Machine Learning\\venv\\lib\\site-packages\\sklearn\\linear_model\\_coordinate_descent.py:617: ConvergenceWarning: Objective did not converge. You might want to increase the number of iterations. Duality gap: 7462722.526879707, tolerance: 3701.0815904731803\n",
      "  model = cd_fast.enet_coordinate_descent_gram(\n",
      "D:\\Yazilim\\Yapay Zeka\\Machine Learning\\venv\\lib\\site-packages\\sklearn\\linear_model\\_coordinate_descent.py:617: ConvergenceWarning: Objective did not converge. You might want to increase the number of iterations. Duality gap: 7464625.65534081, tolerance: 3701.0815904731803\n",
      "  model = cd_fast.enet_coordinate_descent_gram(\n",
      "D:\\Yazilim\\Yapay Zeka\\Machine Learning\\venv\\lib\\site-packages\\sklearn\\linear_model\\_coordinate_descent.py:617: ConvergenceWarning: Objective did not converge. You might want to increase the number of iterations. Duality gap: 7466082.051802795, tolerance: 3701.0815904731803\n",
      "  model = cd_fast.enet_coordinate_descent_gram(\n",
      "D:\\Yazilim\\Yapay Zeka\\Machine Learning\\venv\\lib\\site-packages\\sklearn\\linear_model\\_coordinate_descent.py:617: ConvergenceWarning: Objective did not converge. You might want to increase the number of iterations. Duality gap: 7467208.533499827, tolerance: 3701.0815904731803\n",
      "  model = cd_fast.enet_coordinate_descent_gram(\n",
      "D:\\Yazilim\\Yapay Zeka\\Machine Learning\\venv\\lib\\site-packages\\sklearn\\linear_model\\_coordinate_descent.py:617: ConvergenceWarning: Objective did not converge. You might want to increase the number of iterations. Duality gap: 68689.91805105843, tolerance: 3693.9067129704017\n",
      "  model = cd_fast.enet_coordinate_descent_gram(\n",
      "D:\\Yazilim\\Yapay Zeka\\Machine Learning\\venv\\lib\\site-packages\\sklearn\\linear_model\\_coordinate_descent.py:617: ConvergenceWarning: Objective did not converge. You might want to increase the number of iterations. Duality gap: 202989.7044133339, tolerance: 3693.9067129704017\n",
      "  model = cd_fast.enet_coordinate_descent_gram(\n",
      "D:\\Yazilim\\Yapay Zeka\\Machine Learning\\venv\\lib\\site-packages\\sklearn\\linear_model\\_coordinate_descent.py:617: ConvergenceWarning: Objective did not converge. You might want to increase the number of iterations. Duality gap: 332828.86338240653, tolerance: 3693.9067129704017\n",
      "  model = cd_fast.enet_coordinate_descent_gram(\n",
      "D:\\Yazilim\\Yapay Zeka\\Machine Learning\\venv\\lib\\site-packages\\sklearn\\linear_model\\_coordinate_descent.py:617: ConvergenceWarning: Objective did not converge. You might want to increase the number of iterations. Duality gap: 880949.4113746304, tolerance: 3693.9067129704017\n",
      "  model = cd_fast.enet_coordinate_descent_gram(\n",
      "D:\\Yazilim\\Yapay Zeka\\Machine Learning\\venv\\lib\\site-packages\\sklearn\\linear_model\\_coordinate_descent.py:617: ConvergenceWarning: Objective did not converge. You might want to increase the number of iterations. Duality gap: 2098415.543906466, tolerance: 3693.9067129704017\n",
      "  model = cd_fast.enet_coordinate_descent_gram(\n",
      "D:\\Yazilim\\Yapay Zeka\\Machine Learning\\venv\\lib\\site-packages\\sklearn\\linear_model\\_coordinate_descent.py:617: ConvergenceWarning: Objective did not converge. You might want to increase the number of iterations. Duality gap: 3098659.2651333706, tolerance: 3693.9067129704017\n",
      "  model = cd_fast.enet_coordinate_descent_gram(\n",
      "D:\\Yazilim\\Yapay Zeka\\Machine Learning\\venv\\lib\\site-packages\\sklearn\\linear_model\\_coordinate_descent.py:617: ConvergenceWarning: Objective did not converge. You might want to increase the number of iterations. Duality gap: 3817727.7546693627, tolerance: 3693.9067129704017\n",
      "  model = cd_fast.enet_coordinate_descent_gram(\n",
      "D:\\Yazilim\\Yapay Zeka\\Machine Learning\\venv\\lib\\site-packages\\sklearn\\linear_model\\_coordinate_descent.py:617: ConvergenceWarning: Objective did not converge. You might want to increase the number of iterations. Duality gap: 4305199.3024219945, tolerance: 3693.9067129704017\n",
      "  model = cd_fast.enet_coordinate_descent_gram(\n",
      "D:\\Yazilim\\Yapay Zeka\\Machine Learning\\venv\\lib\\site-packages\\sklearn\\linear_model\\_coordinate_descent.py:617: ConvergenceWarning: Objective did not converge. You might want to increase the number of iterations. Duality gap: 4592808.14184499, tolerance: 3693.9067129704017\n",
      "  model = cd_fast.enet_coordinate_descent_gram(\n",
      "D:\\Yazilim\\Yapay Zeka\\Machine Learning\\venv\\lib\\site-packages\\sklearn\\linear_model\\_coordinate_descent.py:617: ConvergenceWarning: Objective did not converge. You might want to increase the number of iterations. Duality gap: 4677254.178730027, tolerance: 3693.9067129704017\n",
      "  model = cd_fast.enet_coordinate_descent_gram(\n",
      "D:\\Yazilim\\Yapay Zeka\\Machine Learning\\venv\\lib\\site-packages\\sklearn\\linear_model\\_coordinate_descent.py:617: ConvergenceWarning: Objective did not converge. You might want to increase the number of iterations. Duality gap: 4487185.561268343, tolerance: 3693.9067129704017\n",
      "  model = cd_fast.enet_coordinate_descent_gram(\n",
      "D:\\Yazilim\\Yapay Zeka\\Machine Learning\\venv\\lib\\site-packages\\sklearn\\linear_model\\_coordinate_descent.py:617: ConvergenceWarning: Objective did not converge. You might want to increase the number of iterations. Duality gap: 3736616.4271518188, tolerance: 3693.9067129704017\n",
      "  model = cd_fast.enet_coordinate_descent_gram(\n",
      "D:\\Yazilim\\Yapay Zeka\\Machine Learning\\venv\\lib\\site-packages\\sklearn\\linear_model\\_coordinate_descent.py:617: ConvergenceWarning: Objective did not converge. You might want to increase the number of iterations. Duality gap: 1028870.7297223229, tolerance: 3693.9067129704017\n",
      "  model = cd_fast.enet_coordinate_descent_gram(\n",
      "D:\\Yazilim\\Yapay Zeka\\Machine Learning\\venv\\lib\\site-packages\\sklearn\\linear_model\\_coordinate_descent.py:617: ConvergenceWarning: Objective did not converge. You might want to increase the number of iterations. Duality gap: 56857.20035245083, tolerance: 3693.9067129704017\n",
      "  model = cd_fast.enet_coordinate_descent_gram(\n",
      "D:\\Yazilim\\Yapay Zeka\\Machine Learning\\venv\\lib\\site-packages\\sklearn\\linear_model\\_coordinate_descent.py:617: ConvergenceWarning: Objective did not converge. You might want to increase the number of iterations. Duality gap: 5137785.23956465, tolerance: 3693.9067129704017\n",
      "  model = cd_fast.enet_coordinate_descent_gram(\n",
      "D:\\Yazilim\\Yapay Zeka\\Machine Learning\\venv\\lib\\site-packages\\sklearn\\linear_model\\_coordinate_descent.py:617: ConvergenceWarning: Objective did not converge. You might want to increase the number of iterations. Duality gap: 6520863.618534714, tolerance: 3693.9067129704017\n",
      "  model = cd_fast.enet_coordinate_descent_gram(\n",
      "D:\\Yazilim\\Yapay Zeka\\Machine Learning\\venv\\lib\\site-packages\\sklearn\\linear_model\\_coordinate_descent.py:617: ConvergenceWarning: Objective did not converge. You might want to increase the number of iterations. Duality gap: 7062855.428053009, tolerance: 3693.9067129704017\n",
      "  model = cd_fast.enet_coordinate_descent_gram(\n",
      "D:\\Yazilim\\Yapay Zeka\\Machine Learning\\venv\\lib\\site-packages\\sklearn\\linear_model\\_coordinate_descent.py:617: ConvergenceWarning: Objective did not converge. You might want to increase the number of iterations. Duality gap: 7301030.614745008, tolerance: 3693.9067129704017\n",
      "  model = cd_fast.enet_coordinate_descent_gram(\n",
      "D:\\Yazilim\\Yapay Zeka\\Machine Learning\\venv\\lib\\site-packages\\sklearn\\linear_model\\_coordinate_descent.py:617: ConvergenceWarning: Objective did not converge. You might want to increase the number of iterations. Duality gap: 7462897.773786859, tolerance: 3693.9067129704017\n",
      "  model = cd_fast.enet_coordinate_descent_gram(\n",
      "D:\\Yazilim\\Yapay Zeka\\Machine Learning\\venv\\lib\\site-packages\\sklearn\\linear_model\\_coordinate_descent.py:617: ConvergenceWarning: Objective did not converge. You might want to increase the number of iterations. Duality gap: 7549964.392332842, tolerance: 3693.9067129704017\n",
      "  model = cd_fast.enet_coordinate_descent_gram(\n",
      "D:\\Yazilim\\Yapay Zeka\\Machine Learning\\venv\\lib\\site-packages\\sklearn\\linear_model\\_coordinate_descent.py:617: ConvergenceWarning: Objective did not converge. You might want to increase the number of iterations. Duality gap: 7598803.37471016, tolerance: 3693.9067129704017\n",
      "  model = cd_fast.enet_coordinate_descent_gram(\n",
      "D:\\Yazilim\\Yapay Zeka\\Machine Learning\\venv\\lib\\site-packages\\sklearn\\linear_model\\_coordinate_descent.py:617: ConvergenceWarning: Objective did not converge. You might want to increase the number of iterations. Duality gap: 7628772.888095104, tolerance: 3693.9067129704017\n",
      "  model = cd_fast.enet_coordinate_descent_gram(\n",
      "D:\\Yazilim\\Yapay Zeka\\Machine Learning\\venv\\lib\\site-packages\\sklearn\\linear_model\\_coordinate_descent.py:617: ConvergenceWarning: Objective did not converge. You might want to increase the number of iterations. Duality gap: 7647769.367443321, tolerance: 3693.9067129704017\n",
      "  model = cd_fast.enet_coordinate_descent_gram(\n",
      "D:\\Yazilim\\Yapay Zeka\\Machine Learning\\venv\\lib\\site-packages\\sklearn\\linear_model\\_coordinate_descent.py:617: ConvergenceWarning: Objective did not converge. You might want to increase the number of iterations. Duality gap: 7660037.809467041, tolerance: 3693.9067129704017\n",
      "  model = cd_fast.enet_coordinate_descent_gram(\n",
      "D:\\Yazilim\\Yapay Zeka\\Machine Learning\\venv\\lib\\site-packages\\sklearn\\linear_model\\_coordinate_descent.py:617: ConvergenceWarning: Objective did not converge. You might want to increase the number of iterations. Duality gap: 7668031.83285038, tolerance: 3693.9067129704017\n",
      "  model = cd_fast.enet_coordinate_descent_gram(\n",
      "D:\\Yazilim\\Yapay Zeka\\Machine Learning\\venv\\lib\\site-packages\\sklearn\\linear_model\\_coordinate_descent.py:617: ConvergenceWarning: Objective did not converge. You might want to increase the number of iterations. Duality gap: 7673234.957151687, tolerance: 3693.9067129704017\n",
      "  model = cd_fast.enet_coordinate_descent_gram(\n",
      "D:\\Yazilim\\Yapay Zeka\\Machine Learning\\venv\\lib\\site-packages\\sklearn\\linear_model\\_coordinate_descent.py:617: ConvergenceWarning: Objective did not converge. You might want to increase the number of iterations. Duality gap: 7676587.923072302, tolerance: 3693.9067129704017\n",
      "  model = cd_fast.enet_coordinate_descent_gram(\n",
      "D:\\Yazilim\\Yapay Zeka\\Machine Learning\\venv\\lib\\site-packages\\sklearn\\linear_model\\_coordinate_descent.py:617: ConvergenceWarning: Objective did not converge. You might want to increase the number of iterations. Duality gap: 7678713.422187426, tolerance: 3693.9067129704017\n",
      "  model = cd_fast.enet_coordinate_descent_gram(\n",
      "D:\\Yazilim\\Yapay Zeka\\Machine Learning\\venv\\lib\\site-packages\\sklearn\\linear_model\\_coordinate_descent.py:617: ConvergenceWarning: Objective did not converge. You might want to increase the number of iterations. Duality gap: 7680033.839774115, tolerance: 3693.9067129704017\n",
      "  model = cd_fast.enet_coordinate_descent_gram(\n",
      "D:\\Yazilim\\Yapay Zeka\\Machine Learning\\venv\\lib\\site-packages\\sklearn\\linear_model\\_coordinate_descent.py:617: ConvergenceWarning: Objective did not converge. You might want to increase the number of iterations. Duality gap: 7680836.232985578, tolerance: 3693.9067129704017\n",
      "  model = cd_fast.enet_coordinate_descent_gram(\n",
      "D:\\Yazilim\\Yapay Zeka\\Machine Learning\\venv\\lib\\site-packages\\sklearn\\linear_model\\_coordinate_descent.py:617: ConvergenceWarning: Objective did not converge. You might want to increase the number of iterations. Duality gap: 7681312.766844684, tolerance: 3693.9067129704017\n",
      "  model = cd_fast.enet_coordinate_descent_gram(\n",
      "D:\\Yazilim\\Yapay Zeka\\Machine Learning\\venv\\lib\\site-packages\\sklearn\\linear_model\\_coordinate_descent.py:617: ConvergenceWarning: Objective did not converge. You might want to increase the number of iterations. Duality gap: 7681589.053170562, tolerance: 3693.9067129704017\n",
      "  model = cd_fast.enet_coordinate_descent_gram(\n",
      "D:\\Yazilim\\Yapay Zeka\\Machine Learning\\venv\\lib\\site-packages\\sklearn\\linear_model\\_coordinate_descent.py:617: ConvergenceWarning: Objective did not converge. You might want to increase the number of iterations. Duality gap: 7681745.058060892, tolerance: 3693.9067129704017\n",
      "  model = cd_fast.enet_coordinate_descent_gram(\n",
      "D:\\Yazilim\\Yapay Zeka\\Machine Learning\\venv\\lib\\site-packages\\sklearn\\linear_model\\_coordinate_descent.py:617: ConvergenceWarning: Objective did not converge. You might want to increase the number of iterations. Duality gap: 41948.83712007478, tolerance: 3682.6494863364223\n",
      "  model = cd_fast.enet_coordinate_descent_gram(\n",
      "D:\\Yazilim\\Yapay Zeka\\Machine Learning\\venv\\lib\\site-packages\\sklearn\\linear_model\\_coordinate_descent.py:617: ConvergenceWarning: Objective did not converge. You might want to increase the number of iterations. Duality gap: 896764.138796933, tolerance: 3682.6494863364223\n",
      "  model = cd_fast.enet_coordinate_descent_gram(\n",
      "D:\\Yazilim\\Yapay Zeka\\Machine Learning\\venv\\lib\\site-packages\\sklearn\\linear_model\\_coordinate_descent.py:617: ConvergenceWarning: Objective did not converge. You might want to increase the number of iterations. Duality gap: 2063539.3984325808, tolerance: 3682.6494863364223\n",
      "  model = cd_fast.enet_coordinate_descent_gram(\n",
      "D:\\Yazilim\\Yapay Zeka\\Machine Learning\\venv\\lib\\site-packages\\sklearn\\linear_model\\_coordinate_descent.py:617: ConvergenceWarning: Objective did not converge. You might want to increase the number of iterations. Duality gap: 3320899.4520824766, tolerance: 3682.6494863364223\n",
      "  model = cd_fast.enet_coordinate_descent_gram(\n",
      "D:\\Yazilim\\Yapay Zeka\\Machine Learning\\venv\\lib\\site-packages\\sklearn\\linear_model\\_coordinate_descent.py:617: ConvergenceWarning: Objective did not converge. You might want to increase the number of iterations. Duality gap: 4463993.920800107, tolerance: 3682.6494863364223\n",
      "  model = cd_fast.enet_coordinate_descent_gram(\n",
      "D:\\Yazilim\\Yapay Zeka\\Machine Learning\\venv\\lib\\site-packages\\sklearn\\linear_model\\_coordinate_descent.py:617: ConvergenceWarning: Objective did not converge. You might want to increase the number of iterations. Duality gap: 5375668.590760551, tolerance: 3682.6494863364223\n",
      "  model = cd_fast.enet_coordinate_descent_gram(\n",
      "D:\\Yazilim\\Yapay Zeka\\Machine Learning\\venv\\lib\\site-packages\\sklearn\\linear_model\\_coordinate_descent.py:617: ConvergenceWarning: Objective did not converge. You might want to increase the number of iterations. Duality gap: 6228631.125416262, tolerance: 3682.6494863364223\n",
      "  model = cd_fast.enet_coordinate_descent_gram(\n",
      "D:\\Yazilim\\Yapay Zeka\\Machine Learning\\venv\\lib\\site-packages\\sklearn\\linear_model\\_coordinate_descent.py:617: ConvergenceWarning: Objective did not converge. You might want to increase the number of iterations. Duality gap: 6520080.940530993, tolerance: 3682.6494863364223\n",
      "  model = cd_fast.enet_coordinate_descent_gram(\n",
      "D:\\Yazilim\\Yapay Zeka\\Machine Learning\\venv\\lib\\site-packages\\sklearn\\linear_model\\_coordinate_descent.py:617: ConvergenceWarning: Objective did not converge. You might want to increase the number of iterations. Duality gap: 6894283.319834439, tolerance: 3682.6494863364223\n",
      "  model = cd_fast.enet_coordinate_descent_gram(\n",
      "D:\\Yazilim\\Yapay Zeka\\Machine Learning\\venv\\lib\\site-packages\\sklearn\\linear_model\\_coordinate_descent.py:617: ConvergenceWarning: Objective did not converge. You might want to increase the number of iterations. Duality gap: 7061780.991127182, tolerance: 3682.6494863364223\n",
      "  model = cd_fast.enet_coordinate_descent_gram(\n",
      "D:\\Yazilim\\Yapay Zeka\\Machine Learning\\venv\\lib\\site-packages\\sklearn\\linear_model\\_coordinate_descent.py:617: ConvergenceWarning: Objective did not converge. You might want to increase the number of iterations. Duality gap: 7159825.696953572, tolerance: 3682.6494863364223\n",
      "  model = cd_fast.enet_coordinate_descent_gram(\n",
      "D:\\Yazilim\\Yapay Zeka\\Machine Learning\\venv\\lib\\site-packages\\sklearn\\linear_model\\_coordinate_descent.py:617: ConvergenceWarning: Objective did not converge. You might want to increase the number of iterations. Duality gap: 7220550.207827291, tolerance: 3682.6494863364223\n",
      "  model = cd_fast.enet_coordinate_descent_gram(\n",
      "D:\\Yazilim\\Yapay Zeka\\Machine Learning\\venv\\lib\\site-packages\\sklearn\\linear_model\\_coordinate_descent.py:617: ConvergenceWarning: Objective did not converge. You might want to increase the number of iterations. Duality gap: 7258207.007674298, tolerance: 3682.6494863364223\n",
      "  model = cd_fast.enet_coordinate_descent_gram(\n",
      "D:\\Yazilim\\Yapay Zeka\\Machine Learning\\venv\\lib\\site-packages\\sklearn\\linear_model\\_coordinate_descent.py:617: ConvergenceWarning: Objective did not converge. You might want to increase the number of iterations. Duality gap: 7281265.425027554, tolerance: 3682.6494863364223\n",
      "  model = cd_fast.enet_coordinate_descent_gram(\n",
      "D:\\Yazilim\\Yapay Zeka\\Machine Learning\\venv\\lib\\site-packages\\sklearn\\linear_model\\_coordinate_descent.py:617: ConvergenceWarning: Objective did not converge. You might want to increase the number of iterations. Duality gap: 7294955.722847097, tolerance: 3682.6494863364223\n",
      "  model = cd_fast.enet_coordinate_descent_gram(\n",
      "D:\\Yazilim\\Yapay Zeka\\Machine Learning\\venv\\lib\\site-packages\\sklearn\\linear_model\\_coordinate_descent.py:617: ConvergenceWarning: Objective did not converge. You might want to increase the number of iterations. Duality gap: 7302573.404924245, tolerance: 3682.6494863364223\n",
      "  model = cd_fast.enet_coordinate_descent_gram(\n",
      "D:\\Yazilim\\Yapay Zeka\\Machine Learning\\venv\\lib\\site-packages\\sklearn\\linear_model\\_coordinate_descent.py:617: ConvergenceWarning: Objective did not converge. You might want to increase the number of iterations. Duality gap: 7306264.598697541, tolerance: 3682.6494863364223\n",
      "  model = cd_fast.enet_coordinate_descent_gram(\n",
      "D:\\Yazilim\\Yapay Zeka\\Machine Learning\\venv\\lib\\site-packages\\sklearn\\linear_model\\_coordinate_descent.py:617: ConvergenceWarning: Objective did not converge. You might want to increase the number of iterations. Duality gap: 7307479.599721728, tolerance: 3682.6494863364223\n",
      "  model = cd_fast.enet_coordinate_descent_gram(\n",
      "D:\\Yazilim\\Yapay Zeka\\Machine Learning\\venv\\lib\\site-packages\\sklearn\\linear_model\\_coordinate_descent.py:617: ConvergenceWarning: Objective did not converge. You might want to increase the number of iterations. Duality gap: 7307219.086589558, tolerance: 3682.6494863364223\n",
      "  model = cd_fast.enet_coordinate_descent_gram(\n",
      "D:\\Yazilim\\Yapay Zeka\\Machine Learning\\venv\\lib\\site-packages\\sklearn\\linear_model\\_coordinate_descent.py:617: ConvergenceWarning: Objective did not converge. You might want to increase the number of iterations. Duality gap: 7306167.637477434, tolerance: 3682.6494863364223\n",
      "  model = cd_fast.enet_coordinate_descent_gram(\n",
      "D:\\Yazilim\\Yapay Zeka\\Machine Learning\\venv\\lib\\site-packages\\sklearn\\linear_model\\_coordinate_descent.py:617: ConvergenceWarning: Objective did not converge. You might want to increase the number of iterations. Duality gap: 7304775.828178578, tolerance: 3682.6494863364223\n",
      "  model = cd_fast.enet_coordinate_descent_gram(\n",
      "D:\\Yazilim\\Yapay Zeka\\Machine Learning\\venv\\lib\\site-packages\\sklearn\\linear_model\\_coordinate_descent.py:617: ConvergenceWarning: Objective did not converge. You might want to increase the number of iterations. Duality gap: 7303321.303430114, tolerance: 3682.6494863364223\n",
      "  model = cd_fast.enet_coordinate_descent_gram(\n",
      "D:\\Yazilim\\Yapay Zeka\\Machine Learning\\venv\\lib\\site-packages\\sklearn\\linear_model\\_coordinate_descent.py:617: ConvergenceWarning: Objective did not converge. You might want to increase the number of iterations. Duality gap: 7301959.051407098, tolerance: 3682.6494863364223\n",
      "  model = cd_fast.enet_coordinate_descent_gram(\n",
      "D:\\Yazilim\\Yapay Zeka\\Machine Learning\\venv\\lib\\site-packages\\sklearn\\linear_model\\_coordinate_descent.py:617: ConvergenceWarning: Objective did not converge. You might want to increase the number of iterations. Duality gap: 7300762.328085858, tolerance: 3682.6494863364223\n",
      "  model = cd_fast.enet_coordinate_descent_gram(\n",
      "D:\\Yazilim\\Yapay Zeka\\Machine Learning\\venv\\lib\\site-packages\\sklearn\\linear_model\\_coordinate_descent.py:617: ConvergenceWarning: Objective did not converge. You might want to increase the number of iterations. Duality gap: 7299753.917649791, tolerance: 3682.6494863364223\n",
      "  model = cd_fast.enet_coordinate_descent_gram(\n"
     ]
    }
   ],
   "source": [
    "alphas = 10 ** np.linspace(10, -2, 100) * 0.5\n",
    "enet_cv_model = ElasticNetCV(alphas=alphas, cv=10).fit(x_train, y_train)"
   ],
   "metadata": {
    "collapsed": false
   }
  },
  {
   "cell_type": "code",
   "execution_count": 76,
   "outputs": [
    {
     "data": {
      "text/plain": "5748.784976988678"
     },
     "execution_count": 76,
     "metadata": {},
     "output_type": "execute_result"
    }
   ],
   "source": [
    "enet_cv_model.alpha_"
   ],
   "metadata": {
    "collapsed": false
   }
  },
  {
   "cell_type": "code",
   "execution_count": 77,
   "outputs": [
    {
     "data": {
      "text/plain": "-31.46312122564109"
     },
     "execution_count": 77,
     "metadata": {},
     "output_type": "execute_result"
    }
   ],
   "source": [
    "enet_cv_model.intercept_"
   ],
   "metadata": {
    "collapsed": false
   }
  },
  {
   "cell_type": "code",
   "execution_count": 78,
   "outputs": [
    {
     "data": {
      "text/plain": "array([ 0.61111381,  0.        ,  0.        ,  0.        ,  0.        ,\n        0.        , -0.        ,  0.        ,  0.11212622,  0.        ,\n        0.25252702,  0.18656722,  0.00444355,  0.30988823,  0.        ,\n       -0.        ,  0.        , -0.        ,  0.        ])"
     },
     "execution_count": 78,
     "metadata": {},
     "output_type": "execute_result"
    }
   ],
   "source": [
    "enet_cv_model.coef_"
   ],
   "metadata": {
    "collapsed": false
   }
  },
  {
   "cell_type": "code",
   "execution_count": 79,
   "outputs": [],
   "source": [
    "# final model\n",
    "enet_tuned = ElasticNet(alpha=enet_cv_model.alpha_).fit(x_train, y_train)"
   ],
   "metadata": {
    "collapsed": false
   }
  },
  {
   "cell_type": "code",
   "execution_count": 80,
   "outputs": [],
   "source": [
    "y_pred = enet_tuned.predict(x_test)"
   ],
   "metadata": {
    "collapsed": false
   }
  },
  {
   "cell_type": "code",
   "execution_count": 81,
   "outputs": [
    {
     "data": {
      "text/plain": "393.97530658505536"
     },
     "execution_count": 81,
     "metadata": {},
     "output_type": "execute_result"
    }
   ],
   "source": [
    "np.sqrt(mean_squared_error(y_test, y_pred))"
   ],
   "metadata": {
    "collapsed": false
   }
  }
 ],
 "metadata": {
  "kernelspec": {
   "display_name": "Python 3",
   "language": "python",
   "name": "python3"
  },
  "language_info": {
   "codemirror_mode": {
    "name": "ipython",
    "version": 2
   },
   "file_extension": ".py",
   "mimetype": "text/x-python",
   "name": "python",
   "nbconvert_exporter": "python",
   "pygments_lexer": "ipython2",
   "version": "2.7.6"
  }
 },
 "nbformat": 4,
 "nbformat_minor": 0
}
